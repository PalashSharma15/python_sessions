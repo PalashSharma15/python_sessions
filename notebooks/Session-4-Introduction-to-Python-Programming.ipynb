{
  "cells": [
    {
      "attachments": {},
      "cell_type": "markdown",
      "id": "3e4e348c",
      "metadata": {},
      "source": [
        "**Table of contents**<a id='toc0_'></a>    \n",
        "- [Using Pandas Package in Python](#toc1_)    \n",
        "  - [Introduction](#toc1_1_)    \n",
        "    - [Installation of Pandas](#toc1_1_1_)    \n",
        "  - [Series](#toc1_2_)    \n",
        "  - [DataFrames](#toc1_3_)    \n",
        "  - [Missing Data](#toc1_4_)    \n",
        "  - [Groupby](#toc1_5_)    \n",
        "  - [Merging, Joining, and Concatenating](#toc1_6_)    \n",
        "    - [Operations](#toc1_6_1_)    \n",
        "    - [Data Input and Output](#toc1_6_2_)    \n",
        "- [Python Exceptions](#toc2_)    \n",
        "  - [Try/Except/Else/Finally](#toc2_1_)    \n",
        "  - [Exceptions versus Syntax Errors](#toc2_2_)    \n",
        "  - [Raising an Exception](#toc2_3_)    \n",
        "  - [Assert](#toc2_4_)    \n",
        "  - [The AssertionError Exception](#toc2_5_)    \n",
        "  - [Python Built-in Exceptions](#toc2_6_)    \n",
        "  - [User-defined / Custom Exceptions](#toc2_7_)    \n",
        "- [Regular Expressions](#toc3_)    \n",
        "  - [Introduction](#toc3_1_)    \n",
        "  - [Metacharacters](#toc3_2_)    \n",
        "  - [The search function](#toc3_3_)    \n",
        "  - [The match function](#toc3_4_)    \n",
        "  - [Matching Versus Searching](#toc3_5_)    \n",
        "  - [Search and Replace](#toc3_6_)    \n",
        "  - [Examples](#toc3_7_)    \n",
        "- [Logging in Python](#toc4_)    \n",
        "  - [Why Use the logging Module](#toc4_1_)    \n",
        "  - [Creating a Simple Logger](#toc4_2_)    \n",
        "  - [Logging Exceptions](#toc4_3_)    \n",
        "  - [Logging Levels](#toc4_4_)    \n",
        "\n",
        "<!-- vscode-jupyter-toc-config\n",
        "\tnumbering=false\n",
        "\tanchor=true\n",
        "\tflat=false\n",
        "\tminLevel=1\n",
        "\tmaxLevel=6\n",
        "\t/vscode-jupyter-toc-config -->\n",
        "<!-- THIS CELL WILL BE REPLACED ON TOC UPDATE. DO NOT WRITE YOUR TEXT IN THIS CELL -->"
      ]
    },
    {
      "attachments": {},
      "cell_type": "markdown",
      "id": "0a4cdba7",
      "metadata": {},
      "source": [
        "# <a id='toc1_'></a>[Using Pandas Package in Python](#toc0_)\n",
        "\n"
      ]
    },
    {
      "attachments": {},
      "cell_type": "markdown",
      "id": "1c8034e5",
      "metadata": {},
      "source": [
        "## <a id='toc1_1_'></a>[Introduction](#toc0_)\n",
        "\n",
        "Pandas is a powerful open-source data manipulation and analysis library for Python. It provides data structures and functions to efficiently handle structured data.\n"
      ]
    },
    {
      "attachments": {},
      "cell_type": "markdown",
      "id": "e442e187",
      "metadata": {},
      "source": [
        "### <a id='toc1_1_1_'></a>[Installation of Pandas](#toc0_)\n",
        "\n",
        "To install Pandas, you can use pip, the package installer for Python. Run the following command:\n",
        "```python\n",
        "!pip install pandas\n",
        "```\n",
        "Once installed, you can import the Pandas library in your Python script using the following line:\n",
        "```python\n",
        "import pandas as pd\n",
        "```\n"
      ]
    },
    {
      "attachments": {},
      "cell_type": "markdown",
      "metadata": {},
      "source": [
        "## <a id='toc1_2_'></a>[Series](#toc0_)\n",
        "\n",
        "A Series is a one-dimensional labeled array capable of holding any data type. It is similar to a column in a spreadsheet or a SQL table.\n"
      ]
    },
    {
      "cell_type": "code",
      "execution_count": null,
      "id": "0e58afae",
      "metadata": {},
      "outputs": [],
      "source": [
        "import pandas as pd\n",
        "\n",
        "# Create a Series from a list\n",
        "s = pd.Series([1, 3, 5, np.nan, 6, 8])\n",
        "s\n"
      ]
    },
    {
      "attachments": {},
      "cell_type": "markdown",
      "metadata": {},
      "source": [
        "## <a id='toc1_3_'></a>[DataFrames](#toc0_)\n",
        "\n",
        "A DataFrame is a 2-dimensional labeled data structure with columns of potentially different types. It is similar to a spreadsheet or a SQL table.\n"
      ]
    },
    {
      "cell_type": "code",
      "execution_count": null,
      "id": "0c9c2dcd",
      "metadata": {},
      "outputs": [],
      "source": [
        "# Create a DataFrame from a dictionary\n",
        "data = {\n",
        "    'name': ['John', 'Emma', 'Peter'],\n",
        "    'age': [25, 30, 28],\n",
        "    'city': ['New York', 'London', 'Paris']\n",
        "}\n",
        "df = pd.DataFrame(data)\n",
        "df\n"
      ]
    },
    {
      "attachments": {},
      "cell_type": "markdown",
      "metadata": {},
      "source": [
        "## <a id='toc1_4_'></a>[Missing Data](#toc0_)\n",
        "\n",
        "Pandas provides methods to handle missing data, represented as NaN (Not a Number).\n"
      ]
    },
    {
      "cell_type": "code",
      "execution_count": null,
      "id": "a6788e05",
      "metadata": {},
      "outputs": [],
      "source": [
        "# Drop rows with missing values\n",
        "df.dropna()\n",
        "\n",
        "# Fill missing values with a specific value\n",
        "df.fillna(0)\n"
      ]
    },
    {
      "attachments": {},
      "cell_type": "markdown",
      "metadata": {},
      "source": [
        "## <a id='toc1_5_'></a>[Groupby](#toc0_)\n",
        "\n",
        "The `groupby` function in Pandas is used to split the data into groups based on one or more criteria. It is often followed by an aggregation function to perform calculations on each group.\n"
      ]
    },
    {
      "cell_type": "code",
      "execution_count": null,
      "id": "157e5362",
      "metadata": {},
      "outputs": [],
      "source": [
        "# Group by 'city' and calculate the mean age\n",
        "df.groupby('city')['age'].mean()\n"
      ]
    },
    {
      "attachments": {},
      "cell_type": "markdown",
      "id": "dc39e052",
      "metadata": {},
      "source": [
        "## <a id='toc1_6_'></a>[Merging, Joining, and Concatenating](#toc0_)\n",
        "\n",
        "Pandas provides functions to combine data from multiple DataFrames: `merge`, `join`, and `concat`.\n"
      ]
    },
    {
      "attachments": {},
      "cell_type": "markdown",
      "id": "54c9829e",
      "metadata": {},
      "source": [
        "### <a id='toc1_6_1_'></a>[Operations](#toc0_)\n",
        "\n",
        "- `merge`: Combine two DataFrames based on a common key\n",
        "- `join`: Join two DataFrames on their indexes\n",
        "- `concat`: Concatenate multiple DataFrames along a particular axis\n"
      ]
    },
    {
      "attachments": {},
      "cell_type": "markdown",
      "metadata": {},
      "source": [
        "### <a id='toc1_6_2_'></a>[Data Input and Output](#toc0_)\n",
        "\n",
        "Pandas supports reading and writing data in various formats, including CSV, Excel, SQL databases, and more.\n"
      ]
    },
    {
      "attachments": {},
      "cell_type": "markdown",
      "id": "d18f6092",
      "metadata": {},
      "source": [
        "These are some of the main concepts and functionalities of the Pandas library in Python. By mastering Pandas, you can efficiently analyze and manipulate structured data in Python.\n"
      ]
    },
    {
      "attachments": {},
      "cell_type": "markdown",
      "id": "d51a6115",
      "metadata": {},
      "source": [
        "# <a id='toc2_'></a>[Python Exceptions](#toc0_)\n",
        "\n"
      ]
    },
    {
      "attachments": {},
      "cell_type": "markdown",
      "metadata": {},
      "source": [
        "## <a id='toc2_1_'></a>[Try/Except/Else/Finally](#toc0_)\n",
        "\n",
        "The `try` statement in Python allows you to write code that might raise an exception. By using `try` and `except` blocks, you can catch and handle exceptions that occur during the execution of your code.\n"
      ]
    },
    {
      "cell_type": "code",
      "execution_count": null,
      "id": "2f83bf9d",
      "metadata": {},
      "outputs": [],
      "source": [
        "# Example: Handling ZeroDivisionError\n",
        "try:\n",
        "    result = 10 / 0\n",
        "except ZeroDivisionError:\n",
        "    print(\"Error: Cannot divide by zero!\")\n",
        "else:\n",
        "    print(\"Division succeeded. Result:\", result)\n",
        "finally:\n",
        "    print(\"Execution complete.\")\n"
      ]
    },
    {
      "attachments": {},
      "cell_type": "markdown",
      "id": "410ada3b",
      "metadata": {},
      "source": [
        "## <a id='toc2_2_'></a>[Exceptions versus Syntax Errors](#toc0_)\n",
        "\n",
        "Exceptions are different from syntax errors. Syntax errors occur when there are mistakes in the syntax of the Python code, while exceptions occur during the execution of the code due to various reasons.\n"
      ]
    },
    {
      "attachments": {},
      "cell_type": "markdown",
      "metadata": {},
      "source": [
        "## <a id='toc2_3_'></a>[Raising an Exception](#toc0_)\n",
        "\n",
        "In Python, you can raise an exception using the `raise` statement. This allows you to create your own custom exceptions or raise built-in exceptions in specific situations.\n"
      ]
    },
    {
      "cell_type": "code",
      "execution_count": null,
      "id": "b733d760",
      "metadata": {},
      "outputs": [],
      "source": [
        "# Example: Raising a ValueError\n",
        "def calculate_sqrt(x):\n",
        "    if x < 0:\n",
        "        raise ValueError(\"Input must be a non-negative number.\")\n",
        "    return math.sqrt(x)\n",
        "\n",
        "try:\n",
        "    result = calculate_sqrt(-1)\n",
        "except ValueError as e:\n",
        "    print(e)\n"
      ]
    },
    {
      "attachments": {},
      "cell_type": "markdown",
      "metadata": {},
      "source": [
        "## <a id='toc2_4_'></a>[Assert](#toc0_)\n",
        "\n",
        "The `assert` statement in Python is used to check whether a given condition is true. If the condition is false, an `AssertionError` exception is raised.\n"
      ]
    },
    {
      "cell_type": "code",
      "execution_count": null,
      "id": "c15c88d6",
      "metadata": {},
      "outputs": [],
      "source": [
        "# Example: Using assert to check a condition\n",
        "x = 10\n",
        "y = 5\n",
        "assert y != 0, \"Divisor cannot be zero!\"\n",
        "result = x / y\n",
        "print(\"Result:\", result)\n"
      ]
    },
    {
      "attachments": {},
      "cell_type": "markdown",
      "id": "c7073d3c",
      "metadata": {},
      "source": [
        "## <a id='toc2_5_'></a>[The AssertionError Exception](#toc0_)\n",
        "\n",
        "An `AssertionError` exception is raised when an `assert` statement fails. It can be caught and handled using `try` and `except` blocks like any other exception.\n"
      ]
    },
    {
      "cell_type": "code",
      "execution_count": 1,
      "id": "a5cb619b",
      "metadata": {},
      "outputs": [
        {
          "name": "stdout",
          "output_type": "stream",
          "text": [
            "AssertionError: Divisor cannot be zero\n"
          ]
        }
      ],
      "source": [
        "def divide(a, b):\n",
        "    assert b != 0, \"Divisor cannot be zero\"\n",
        "    return a / b\n",
        "\n",
        "try:\n",
        "    result = divide(10, 0)\n",
        "    print(result)\n",
        "except AssertionError as e:\n",
        "    print(f\"AssertionError: {e}\")"
      ]
    },
    {
      "attachments": {},
      "cell_type": "markdown",
      "id": "89527ad8",
      "metadata": {},
      "source": [
        "## <a id='toc2_6_'></a>[Python Built-in Exceptions](#toc0_)\n",
        "\n",
        "Python provides many built-in exceptions that cover a wide range of error conditions. These exceptions can be caught and handled using `try` and `except` blocks.\n"
      ]
    },
    {
      "attachments": {},
      "cell_type": "markdown",
      "id": "a2b8e642",
      "metadata": {},
      "source": [
        "```python\n",
        "                # Example: TypeError\n",
        "                x = 10\n",
        "                y = \"20\"\n",
        "                z = x + y  # Raises a TypeError: unsupported operand type(s) for +: 'int' and 'str'\n",
        "\n",
        "                # Example: ValueError\n",
        "                num = int(\"abc\")  # Raises a ValueError: invalid literal for int() with base 10: 'abc'\n",
        "\n",
        "                # Example: IndexError\n",
        "                numbers = [1, 2, 3]\n",
        "                print(numbers[3])  # Raises an IndexError: list index out of range\n",
        "\n",
        "                # Example: KeyError\n",
        "                student = {\"name\": \"John\", \"age\": 25}\n",
        "                print(student[\"grade\"])  # Raises a KeyError: 'grade'\n",
        "\n",
        "                # Example: FileNotFoundError\n",
        "                file = open(\"nonexistent_file.txt\")  # Raises a FileNotFoundError: [Errno 2] No such file or directory: 'nonexistent_file.txt'\n",
        "\n",
        "                # Example: ZeroDivisionError\n",
        "                result = 10 / 0  # Raises a ZeroDivisionError: division by zero\n",
        "```"
      ]
    },
    {
      "attachments": {},
      "cell_type": "markdown",
      "id": "5a5d65a0",
      "metadata": {},
      "source": [
        "## <a id='toc2_7_'></a>[User-defined / Custom Exceptions](#toc0_)\n",
        "\n",
        "In addition to the built-in exceptions, Python allows you to define your own custom exceptions by creating a new class that inherits from the `Exception` class.\n"
      ]
    },
    {
      "cell_type": "code",
      "execution_count": 2,
      "id": "f30bf850",
      "metadata": {},
      "outputs": [
        {
          "ename": "CustomException",
          "evalue": "This is a custom exception.",
          "output_type": "error",
          "traceback": [
            "\u001b[1;31m---------------------------------------------------------------------------\u001b[0m",
            "\u001b[1;31mCustomException\u001b[0m                           Traceback (most recent call last)",
            "\u001b[1;32m<ipython-input-2-4f15d6c690c4>\u001b[0m in \u001b[0;36m<module>\u001b[1;34m\u001b[0m\n\u001b[0;32m      4\u001b[0m         \u001b[0mself\u001b[0m\u001b[1;33m.\u001b[0m\u001b[0mmessage\u001b[0m \u001b[1;33m=\u001b[0m \u001b[0mmessage\u001b[0m\u001b[1;33m\u001b[0m\u001b[1;33m\u001b[0m\u001b[0m\n\u001b[0;32m      5\u001b[0m \u001b[1;33m\u001b[0m\u001b[0m\n\u001b[1;32m----> 6\u001b[1;33m \u001b[1;32mraise\u001b[0m \u001b[0mCustomException\u001b[0m\u001b[1;33m(\u001b[0m\u001b[1;34m\"This is a custom exception.\"\u001b[0m\u001b[1;33m)\u001b[0m\u001b[1;33m\u001b[0m\u001b[1;33m\u001b[0m\u001b[0m\n\u001b[0m",
            "\u001b[1;31mCustomException\u001b[0m: This is a custom exception."
          ]
        }
      ],
      "source": [
        "# Example: CustomException with custom message\n",
        "class CustomException(Exception):\n",
        "    def __init__(self, message):\n",
        "        self.message = message\n",
        "\n",
        "raise CustomException(\"This is a custom exception.\")"
      ]
    },
    {
      "attachments": {},
      "cell_type": "markdown",
      "id": "f51ab602",
      "metadata": {},
      "source": [
        "# <a id='toc3_'></a>[Regular Expressions](#toc0_)\n",
        "\n"
      ]
    },
    {
      "cell_type": "code",
      "execution_count": 3,
      "id": "69535e25",
      "metadata": {},
      "outputs": [
        {
          "ename": "CustomException",
          "evalue": "500",
          "output_type": "error",
          "traceback": [
            "\u001b[1;31m---------------------------------------------------------------------------\u001b[0m",
            "\u001b[1;31mCustomException\u001b[0m                           Traceback (most recent call last)",
            "\u001b[1;32m<ipython-input-3-1801885b755d>\u001b[0m in \u001b[0;36m<module>\u001b[1;34m\u001b[0m\n\u001b[0;32m      4\u001b[0m         \u001b[0mself\u001b[0m\u001b[1;33m.\u001b[0m\u001b[0merror_code\u001b[0m \u001b[1;33m=\u001b[0m \u001b[0merror_code\u001b[0m\u001b[1;33m\u001b[0m\u001b[1;33m\u001b[0m\u001b[0m\n\u001b[0;32m      5\u001b[0m \u001b[1;33m\u001b[0m\u001b[0m\n\u001b[1;32m----> 6\u001b[1;33m \u001b[1;32mraise\u001b[0m \u001b[0mCustomException\u001b[0m\u001b[1;33m(\u001b[0m\u001b[1;36m500\u001b[0m\u001b[1;33m)\u001b[0m\u001b[1;33m\u001b[0m\u001b[1;33m\u001b[0m\u001b[0m\n\u001b[0m",
            "\u001b[1;31mCustomException\u001b[0m: 500"
          ]
        }
      ],
      "source": [
        "# Example: CustomException with error code\n",
        "class CustomException(Exception):\n",
        "    def __init__(self, error_code):\n",
        "        self.error_code = error_code\n",
        "\n",
        "raise CustomException(500)"
      ]
    },
    {
      "cell_type": "code",
      "execution_count": 4,
      "id": "37ea8742",
      "metadata": {},
      "outputs": [
        {
          "ename": "CustomException",
          "evalue": "('An error occurred.', {'status': 'failed'})",
          "output_type": "error",
          "traceback": [
            "\u001b[1;31m---------------------------------------------------------------------------\u001b[0m",
            "\u001b[1;31mCustomException\u001b[0m                           Traceback (most recent call last)",
            "\u001b[1;32m<ipython-input-4-969960084a88>\u001b[0m in \u001b[0;36m<module>\u001b[1;34m\u001b[0m\n\u001b[0;32m      5\u001b[0m         \u001b[0mself\u001b[0m\u001b[1;33m.\u001b[0m\u001b[0mdata\u001b[0m \u001b[1;33m=\u001b[0m \u001b[0mdata\u001b[0m\u001b[1;33m\u001b[0m\u001b[1;33m\u001b[0m\u001b[0m\n\u001b[0;32m      6\u001b[0m \u001b[1;33m\u001b[0m\u001b[0m\n\u001b[1;32m----> 7\u001b[1;33m \u001b[1;32mraise\u001b[0m \u001b[0mCustomException\u001b[0m\u001b[1;33m(\u001b[0m\u001b[1;34m\"An error occurred.\"\u001b[0m\u001b[1;33m,\u001b[0m \u001b[1;33m{\u001b[0m\u001b[1;34m\"status\"\u001b[0m\u001b[1;33m:\u001b[0m \u001b[1;34m\"failed\"\u001b[0m\u001b[1;33m}\u001b[0m\u001b[1;33m)\u001b[0m\u001b[1;33m\u001b[0m\u001b[1;33m\u001b[0m\u001b[0m\n\u001b[0m",
            "\u001b[1;31mCustomException\u001b[0m: ('An error occurred.', {'status': 'failed'})"
          ]
        }
      ],
      "source": [
        "# Example: CustomException with additional data\n",
        "class CustomException(Exception):\n",
        "    def __init__(self, message, data):\n",
        "        self.message = message\n",
        "        self.data = data\n",
        "\n",
        "raise CustomException(\"An error occurred.\", {\"status\": \"failed\"})"
      ]
    },
    {
      "cell_type": "code",
      "execution_count": 6,
      "id": "ad00245e",
      "metadata": {},
      "outputs": [
        {
          "ename": "CustomException",
          "evalue": "CustomException: This is a custom exception.",
          "output_type": "error",
          "traceback": [
            "\u001b[1;31m---------------------------------------------------------------------------\u001b[0m",
            "\u001b[1;31mCustomException\u001b[0m                           Traceback (most recent call last)",
            "\u001b[1;32m<ipython-input-6-a421159280be>\u001b[0m in \u001b[0;36m<module>\u001b[1;34m\u001b[0m\n\u001b[0;32m      7\u001b[0m         \u001b[1;32mreturn\u001b[0m \u001b[1;34mf\"CustomException: {self.message}\"\u001b[0m\u001b[1;33m\u001b[0m\u001b[1;33m\u001b[0m\u001b[0m\n\u001b[0;32m      8\u001b[0m \u001b[1;33m\u001b[0m\u001b[0m\n\u001b[1;32m----> 9\u001b[1;33m \u001b[1;32mraise\u001b[0m \u001b[0mCustomException\u001b[0m\u001b[1;33m(\u001b[0m\u001b[1;34m\"This is a custom exception.\"\u001b[0m\u001b[1;33m)\u001b[0m\u001b[1;33m\u001b[0m\u001b[1;33m\u001b[0m\u001b[0m\n\u001b[0m",
            "\u001b[1;31mCustomException\u001b[0m: CustomException: This is a custom exception."
          ]
        }
      ],
      "source": [
        "# Example: CustomException with customized behavior\n",
        "class CustomException(Exception):\n",
        "    def __init__(self, message):\n",
        "        self.message = message\n",
        "\n",
        "    def __str__(self):\n",
        "        return f\"CustomException: {self.message}\"\n",
        "\n",
        "raise CustomException(\"This is a custom exception.\")"
      ]
    },
    {
      "attachments": {},
      "cell_type": "markdown",
      "id": "650b44a3",
      "metadata": {},
      "source": [
        "## <a id='toc3_1_'></a>[Introduction](#toc0_)\n",
        "\n",
        "Regular expressions (regex) are powerful tools for pattern matching and text manipulation. They allow you to search, match, and manipulate strings based on specific patterns.\n"
      ]
    },
    {
      "attachments": {},
      "cell_type": "markdown",
      "metadata": {},
      "source": [
        "## <a id='toc3_2_'></a>[Metacharacters](#toc0_)\n",
        "\n",
        "Metacharacters are special characters in regex that have a special meaning and are used to define the pattern.\n"
      ]
    },
    {
      "cell_type": "code",
      "execution_count": null,
      "id": "94c1099f",
      "metadata": {},
      "outputs": [],
      "source": [
        "# Example: Using metacharacters\n",
        "import re\n",
        "\n",
        "# Match any digit\n",
        "pattern = r'\\d'\n",
        "text = 'Hello 123 World'\n",
        "result = re.findall(pattern, text)\n",
        "print(result)  # Output: ['1', '2', '3']\n"
      ]
    },
    {
      "attachments": {},
      "cell_type": "markdown",
      "metadata": {},
      "source": [
        "## <a id='toc3_3_'></a>[The search function](#toc0_)\n",
        "\n",
        "The `search` function in the `re` module is used to search for a pattern in a string. It returns a match object if a match is found, otherwise, it returns `None`.\n"
      ]
    },
    {
      "cell_type": "code",
      "execution_count": null,
      "id": "580a84b1",
      "metadata": {},
      "outputs": [],
      "source": [
        "# Example: Using the search function\n",
        "import re\n",
        "\n",
        "pattern = r'world'\n",
        "text = 'Hello World'\n",
        "result = re.search(pattern, text)\n",
        "print(result)  # Output: <re.Match object; span=(6, 11), match='World'>\n"
      ]
    },
    {
      "attachments": {},
      "cell_type": "markdown",
      "metadata": {},
      "source": [
        "## <a id='toc3_4_'></a>[The match function](#toc0_)\n",
        "\n",
        "The `match` function in the `re` module is similar to the `search` function, but it only searches for a match at the beginning of the string.\n"
      ]
    },
    {
      "cell_type": "code",
      "execution_count": null,
      "id": "cab1cebe",
      "metadata": {},
      "outputs": [],
      "source": [
        "# Example: Using the match function\n",
        "import re\n",
        "\n",
        "pattern = r'Hello'\n",
        "text = 'Hello World'\n",
        "result = re.match(pattern, text)\n",
        "print(result)  # Output: <re.Match object; span=(0, 5), match='Hello'>\n"
      ]
    },
    {
      "attachments": {},
      "cell_type": "markdown",
      "id": "14ab2eeb",
      "metadata": {},
      "source": [
        "## <a id='toc3_5_'></a>[Matching Versus Searching](#toc0_)\n",
        "\n",
        "The `match` function only checks for a match at the beginning of the string, while the `search` function searches for a match anywhere in the string.\n"
      ]
    },
    {
      "attachments": {},
      "cell_type": "markdown",
      "metadata": {},
      "source": [
        "## <a id='toc3_6_'></a>[Search and Replace](#toc0_)\n",
        "\n",
        "Regex can also be used to search and replace text in a string using the `sub` function in the `re` module.\n"
      ]
    },
    {
      "cell_type": "code",
      "execution_count": null,
      "id": "8ee69af5",
      "metadata": {},
      "outputs": [],
      "source": [
        "# Example: Using search and replace\n",
        "import re\n",
        "\n",
        "pattern = r'World'\n",
        "text = 'Hello World'\n",
        "replacement = 'Universe'\n",
        "result = re.sub(pattern, replacement, text)\n",
        "print(result)  # Output: 'Hello Universe'\n"
      ]
    },
    {
      "attachments": {},
      "cell_type": "markdown",
      "metadata": {},
      "source": [
        "## <a id='toc3_7_'></a>[Examples](#toc0_)\n",
        "\n",
        "Here are some additional examples of using regular expressions:\n"
      ]
    },
    {
      "cell_type": "code",
      "execution_count": null,
      "id": "1ee970d4",
      "metadata": {},
      "outputs": [],
      "source": [
        "# Example: Matching an email address\n",
        "import re\n",
        "\n",
        "pattern = r'[a-zA-Z0-9._%+-]+@[a-zA-Z0-9.-]+\\.[a-zA-Z]{2,}'\n",
        "text = 'Email me at john.doe@example.com'\n",
        "result = re.search(pattern, text)\n",
        "print(result.group())  # Output: 'john.doe@example.com'\n"
      ]
    },
    {
      "attachments": {},
      "cell_type": "markdown",
      "id": "cd1d2d59",
      "metadata": {},
      "source": [
        "# <a id='toc4_'></a>[Logging in Python](#toc0_)\n",
        "\n"
      ]
    },
    {
      "attachments": {},
      "cell_type": "markdown",
      "id": "0fca22d4",
      "metadata": {},
      "source": [
        "## <a id='toc4_1_'></a>[Why Use the logging Module](#toc0_)\n",
        "\n",
        "The `logging` module in Python provides a flexible and powerful way to record log messages from your application. Logging is essential for understanding and troubleshooting the behavior of your code.\n"
      ]
    },
    {
      "attachments": {},
      "cell_type": "markdown",
      "metadata": {},
      "source": [
        "## <a id='toc4_2_'></a>[Creating a Simple Logger](#toc0_)\n",
        "\n",
        "You can create a simple logger using the `logging` module. It allows you to define the logging level and the format of log messages.\n"
      ]
    },
    {
      "cell_type": "code",
      "execution_count": null,
      "id": "e8561726",
      "metadata": {},
      "outputs": [],
      "source": [
        "# Example: Creating a simple logger\n",
        "import logging\n",
        "\n",
        "# Create a logger\n",
        "logger = logging.getLogger('my_logger')\n",
        "\n",
        "# Set the logging level\n",
        "logger.setLevel(logging.DEBUG)\n",
        "\n",
        "# Create a console handler\n",
        "console_handler = logging.StreamHandler()\n",
        "\n",
        "# Create a formatter\n",
        "formatter = logging.Formatter('%(asctime)s - %(name)s - %(levelname)s - %(message)s')\n",
        "\n",
        "# Add the formatter to the console handler\n",
        "console_handler.setFormatter(formatter)\n",
        "\n",
        "# Add the console handler to the logger\n",
        "logger.addHandler(console_handler)\n",
        "\n",
        "# Log a message\n",
        "logger.debug('This is a debug message')\n",
        "logger.info('This is an info message')\n",
        "logger.warning('This is a warning message')\n",
        "logger.error('This is an error message')\n",
        "logger.critical('This is a critical message')\n"
      ]
    },
    {
      "attachments": {},
      "cell_type": "markdown",
      "metadata": {},
      "source": [
        "## <a id='toc4_3_'></a>[Logging Exceptions](#toc0_)\n",
        "\n",
        "The `logging` module allows you to log exceptions along with the stack trace. This can be helpful for diagnosing errors and understanding the flow of your program.\n"
      ]
    },
    {
      "cell_type": "code",
      "execution_count": null,
      "id": "b3e6b30d",
      "metadata": {},
      "outputs": [],
      "source": [
        "# Example: Logging exceptions\n",
        "import logging\n",
        "\n",
        "# Create a logger\n",
        "logger = logging.getLogger('my_logger')\n",
        "\n",
        "# Set the logging level\n",
        "logger.setLevel(logging.ERROR)\n",
        "\n",
        "# Create a console handler\n",
        "console_handler = logging.StreamHandler()\n",
        "\n",
        "# Create a formatter\n",
        "formatter = logging.Formatter('%(asctime)s - %(name)s - %(levelname)s - %(message)s')\n",
        "\n",
        "# Add the formatter to the console handler\n",
        "console_handler.setFormatter(formatter)\n",
        "\n",
        "# Add the console handler to the logger\n",
        "logger.addHandler(console_handler)\n",
        "\n",
        "try:\n",
        "    # Some code that may raise an exception\n",
        "    result = 1 / 0\n",
        "except Exception as e:\n",
        "    # Log the exception\n",
        "    logger.exception('An error occurred')\n"
      ]
    },
    {
      "attachments": {},
      "cell_type": "markdown",
      "metadata": {},
      "source": [
        "## <a id='toc4_4_'></a>[Logging Levels](#toc0_)\n",
        "\n",
        "The `logging` module provides several logging levels that allow you to control the verbosity of log messages. The commonly used levels are `DEBUG`, `INFO`, `WARNING`, `ERROR`, and `CRITICAL`.\n"
      ]
    },
    {
      "cell_type": "code",
      "execution_count": null,
      "id": "3b4d4c8d",
      "metadata": {},
      "outputs": [],
      "source": [
        "# Example: Logging levels\n",
        "import logging\n",
        "\n",
        "# Create a logger\n",
        "logger = logging.getLogger('my_logger')\n",
        "\n",
        "# Set the logging level to INFO\n",
        "logger.setLevel(logging.INFO)\n",
        "\n",
        "# Create a console handler\n",
        "console_handler = logging.StreamHandler()\n",
        "\n",
        "# Create a formatter\n",
        "formatter = logging.Formatter('%(asctime)s - %(name)s - %(levelname)s - %(message)s')\n",
        "\n",
        "# Add the formatter to the console handler\n",
        "console_handler.setFormatter(formatter)\n",
        "\n",
        "# Add the console handler to the logger\n",
        "logger.addHandler(console_handler)\n",
        "\n",
        "# Log messages at different levels\n",
        "logger.debug('This is a debug message')  # Not logged\n",
        "logger.info('This is an info message')\n",
        "logger.warning('This is a warning message')\n",
        "logger.error('This is an error message')\n",
        "logger.critical('This is a critical message')\n"
      ]
    }
  ],
  "metadata": {
    "kernelspec": {
      "display_name": "Python 3",
      "language": "python",
      "name": "python3"
    },
    "language_info": {
      "codemirror_mode": {
        "name": "ipython",
        "version": 3
      },
      "file_extension": ".py",
      "mimetype": "text/x-python",
      "name": "python",
      "nbconvert_exporter": "python",
      "pygments_lexer": "ipython3",
      "version": "3.8.8"
    }
  },
  "nbformat": 4,
  "nbformat_minor": 5
}
