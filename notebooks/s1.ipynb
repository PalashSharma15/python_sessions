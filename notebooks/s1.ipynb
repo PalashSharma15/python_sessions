{
 "cells": [
  {
   "attachments": {},
   "cell_type": "markdown",
   "id": "b25dfb99",
   "metadata": {},
   "source": [
    "# Table of Contents\n",
    "\n",
    "1. [Introduction to Python Programming](#introduction-to-python-programming)\n",
    "2. [Python Overview](#python-overview)\n",
    "3. [Features of Python](#features-of-python)\n",
    "4. [Python Environment Set-up and Installation](#python-environment-set-up-and-installation)\n",
    "5. [Python Basics](#python-basics)\n",
    "    - [Basic Data Types](#basic-data-types)\n",
    "        - [Numbers](#numbers)\n",
    "        - [Strings](#strings)\n",
    "        - [Print Formatting](#print-formatting)\n",
    "        - [Booleans](#booleans)\n",
    "    - [Data Structures](#data-structures)\n",
    "        - [List](#list)\n",
    "        - [Tuple](#tuple)\n",
    "        - [Dictionary](#dictionary)\n",
    "        - [Sets and Set Operations](#sets-and-set-operations)\n",
    "    - [List Comprehension](#list-comprehension)\n",
    "    - [Collections](#collections)\n",
    "6. [Conclusion](#conclusion)\n"
   ]
  },
  {
   "attachments": {},
   "cell_type": "markdown",
   "id": "281d5612",
   "metadata": {},
   "source": [
    "# Introduction to Python Programming\n",
    "\n",
    "This Jupyter Notebook provides an introduction to the Python programming language. It covers various topics such as Python overview, features of Python, environment set-up, Jupyter Notebook overview, and Python basics.\n"
   ]
  },
  {
   "attachments": {},
   "cell_type": "markdown",
   "metadata": {},
   "source": [
    "## Python Overview\n",
    "\n",
    "Python is a high-level, interpreted programming language known for its simplicity and readability. It was created by Guido van Rossum and first released in 1991. Python emphasizes code readability and uses indentation and whitespace to define code blocks.\n"
   ]
  },
  {
   "attachments": {},
   "cell_type": "markdown",
   "metadata": {},
   "source": [
    "## Features of Python\n",
    "\n",
    "- **Simple and Easy to Learn:** Python has a syntax that is easy to understand and write, making it a great language for beginners.\n",
    "- **Expressive and Readable:** Python's code is designed to be clear and readable, enhancing productivity and collaboration.\n",
    "- **Versatile and Flexible:** Python can be used for various purposes, such as web development, data analysis, machine learning, and more.\n",
    "- **Large Standard Library:** Python comes with a rich collection of modules and libraries that provide ready-to-use functions and tools.\n",
    "- **Cross-platform:** Python is available on multiple platforms, including Windows, macOS, and Linux, making it highly portable.\n"
   ]
  },
  {
   "attachments": {},
   "cell_type": "markdown",
   "metadata": {},
   "source": [
    "## Python Environment Set-up and Installation\n",
    "\n",
    "Python is the programming language itself, the interpreter is the program that executes your Python code, and Jupyter Notebook is a tool that provides an interactive environment for writing and running Python code in a web browser. You can read more about Jupyter Notebook from the [official documentation](https://jupyter-notebook.readthedocs.io/en/latest/)\n",
    "\n",
    "**We recommend following [installing Jupyter Notebook along with Python interpreter](https://docs.jupyter.org/en/latest/install/notebook-classic.html) to kick-start your learning.**\n",
    "\n",
    "For using Python without Jupyter Notebook, you need to set up the Python environment on your computer. Here are the general steps:\n",
    "\n",
    "1. **Download Python**: Visit the official Python website (https://www.python.org) and download the latest version of Python.\n",
    "2. **Install Python**: Run the downloaded installer and follow the installation instructions.\n",
    "3. **Verify Installation**: Open a terminal or command prompt and type `python --version` to check if Python is installed correctly.\n"
   ]
  },
  {
   "attachments": {},
   "cell_type": "markdown",
   "id": "0e1dd497",
   "metadata": {},
   "source": [
    "## Python Basics\n",
    "\n",
    "### Basic Data Types\n",
    "\n",
    "#### Numbers\n",
    "\n",
    "Python supports various numeric data types, including integers, floats, and complex numbers. These data types allow you to perform arithmetic operations such as addition, subtraction, multiplication, and division."
   ]
  },
  {
   "cell_type": "code",
   "execution_count": 5,
   "id": "2c5200c6",
   "metadata": {},
   "outputs": [
    {
     "name": "stdout",
     "output_type": "stream",
     "text": [
      "Addition: 13.14\n",
      "Subtraction: 6.859999999999999\n",
      "Multiplication: 31.400000000000002\n",
      "Division: 3.184713375796178\n"
     ]
    }
   ],
   "source": [
    "x = 10  # integer\n",
    "y = 3.14  # float\n",
    "z = 2 + 3j  # complex\n",
    "\n",
    "# Arithmetic operations\n",
    "addition = x + y\n",
    "subtraction = x - y\n",
    "multiplication = x * y\n",
    "division = x / y\n",
    "\n",
    "print(\"Addition:\", addition)\n",
    "print(\"Subtraction:\", subtraction)\n",
    "print(\"Multiplication:\", multiplication)\n",
    "print(\"Division:\", division)"
   ]
  },
  {
   "attachments": {},
   "cell_type": "markdown",
   "id": "6aedebed",
   "metadata": {},
   "source": [
    "\n",
    "#### Strings\n",
    "\n",
    "Strings are sequences of characters enclosed in single quotes ('') or double quotes (\"\"). Python provides a rich set of string manipulation methods and supports various operations like concatenation, slicing, and formatting."
   ]
  },
  {
   "cell_type": "code",
   "execution_count": 6,
   "id": "3fe16e36",
   "metadata": {},
   "outputs": [
    {
     "name": "stdout",
     "output_type": "stream",
     "text": [
      "My name is Alice and I am 25 years old\n"
     ]
    }
   ],
   "source": [
    "message = 'Hello, World!'\n",
    "name = 'Alice'\n",
    "# String operations\n",
    "concatenated = message + ' My name is ' + name\n",
    "length = len(message)\n",
    "substring = message[7:12]\n",
    "formatted = 'My name is {} and I am {} years old'.format(name, 25)\n",
    "print(formatted)"
   ]
  },
  {
   "attachments": {},
   "cell_type": "markdown",
   "id": "f4ef7ff0",
   "metadata": {},
   "source": [
    "\n",
    "#### Print Formatting\n",
    "\n",
    "The `print` function in Python allows you to format and display output in a specific way. You can use placeholders and formatting options to control the appearance of the printed output.\n"
   ]
  },
  {
   "cell_type": "code",
   "execution_count": 15,
   "id": "780924ce",
   "metadata": {},
   "outputs": [
    {
     "name": "stdout",
     "output_type": "stream",
     "text": [
      "My name is Alice and I am 25 years old\n",
      "My name is Alice and I am 25 years old\n",
      "My name is Alice and I am 25 years old\n"
     ]
    }
   ],
   "source": [
    "name = 'Alice'\n",
    "age = 25\n",
    "\n",
    "# Print formatting\n",
    "print('My name is', name, 'and I am', age, 'years old')\n",
    "print('My name is {} and I am {} years old'.format(name, age))\n",
    "print(f'My name is {name} and I am {age} years old')"
   ]
  },
  {
   "attachments": {},
   "cell_type": "markdown",
   "id": "b2e81042",
   "metadata": {},
   "source": [
    "\n",
    "#### Booleans\n",
    "\n",
    "Booleans represent the truth values `True` and `False`. They are commonly used in conditional statements and logical operations.\n"
   ]
  },
  {
   "cell_type": "code",
   "execution_count": 7,
   "id": "645085e2",
   "metadata": {},
   "outputs": [
    {
     "data": {
      "text/plain": [
       "False"
      ]
     },
     "execution_count": 7,
     "metadata": {},
     "output_type": "execute_result"
    }
   ],
   "source": [
    "is_valid = True\n",
    "is_complete = False\n",
    "\n",
    "# Logical operations\n",
    "result = is_valid and is_complete\n",
    "result"
   ]
  },
  {
   "attachments": {},
   "cell_type": "markdown",
   "id": "973057f0",
   "metadata": {},
   "source": [
    "### Data Structures\n",
    "\n",
    "#### List\n",
    "\n",
    "A list is a mutable, ordered collection of elements enclosed in square brackets ([]). Lists can contain elements of different data types and allow indexing, slicing, and various manipulation operations.\n"
   ]
  },
  {
   "cell_type": "code",
   "execution_count": 10,
   "id": "755c70b9",
   "metadata": {},
   "outputs": [
    {
     "data": {
      "text/plain": [
       "5"
      ]
     },
     "execution_count": 10,
     "metadata": {},
     "output_type": "execute_result"
    }
   ],
   "source": [
    "fruits = ['apple', 'banana', 'cherry']\n",
    "numbers = [1, 2, 3, 4, 5]\n",
    "\n",
    "# Accessing elements\n",
    "first_fruit = fruits[0]\n",
    "last_number = numbers[-1]\n",
    "\n",
    "# Modifying elements\n",
    "fruits[1] = 'orange'\n",
    "\n",
    "# List operations\n",
    "fruits.append('mango')\n",
    "numbers.pop()"
   ]
  },
  {
   "cell_type": "code",
   "execution_count": 11,
   "id": "687e4031",
   "metadata": {},
   "outputs": [
    {
     "data": {
      "text/plain": [
       "['apple', 'orange', 'cherry', 'mango']"
      ]
     },
     "execution_count": 11,
     "metadata": {},
     "output_type": "execute_result"
    }
   ],
   "source": [
    "fruits"
   ]
  },
  {
   "cell_type": "code",
   "execution_count": 12,
   "id": "b695b715",
   "metadata": {},
   "outputs": [
    {
     "data": {
      "text/plain": [
       "[1, 2, 3, 4]"
      ]
     },
     "execution_count": 12,
     "metadata": {},
     "output_type": "execute_result"
    }
   ],
   "source": [
    "numbers"
   ]
  },
  {
   "attachments": {},
   "cell_type": "markdown",
   "id": "8c249474",
   "metadata": {},
   "source": [
    "\n",
    "#### Tuple\n",
    "\n",
    "A tuple is an immutable, ordered collection of elements enclosed in parentheses (()). Tuples are similar to lists but cannot be modified once created.\n"
   ]
  },
  {
   "cell_type": "code",
   "execution_count": 14,
   "id": "dd316e72",
   "metadata": {},
   "outputs": [
    {
     "data": {
      "text/plain": [
       "(1, 2)"
      ]
     },
     "execution_count": 14,
     "metadata": {},
     "output_type": "execute_result"
    }
   ],
   "source": [
    "\n",
    "person = ('Alice', 25, 'New York')\n",
    "\n",
    "# Accessing elements\n",
    "name = person[0]\n",
    "age = person[1]\n",
    "\n",
    "# Tuple packing and unpacking\n",
    "x = 1\n",
    "y = 2\n",
    "coordinates = x, y\n",
    "a, b = coordinates\n",
    "a, b"
   ]
  },
  {
   "attachments": {},
   "cell_type": "markdown",
   "id": "da963e1a",
   "metadata": {},
   "source": [
    ">### Exercise\n",
    "\n",
    "```python\n",
    "        # Check if you can append more elements to a tuple.\n",
    "        thistuple = (\"apple\", \"banana\", \"cherry\")\n",
    "        thistuple.append(\"orange\")\n",
    "        print(thistuple)\n",
    "        \n",
    "        # to add more elements, first we will need to convert tuple to a list\n",
    "        x = (\"apple\", \"banana\", \"cherry\")\n",
    "        y = list(x)\n",
    "        y[1] = \"kiwi\"\n",
    "        x = tuple(y)\n",
    "        print(x)\n",
    "\n",
    "        #remove an item from a tuple.\n",
    "        y=(\"apple\",\"kiwi\",\"Mango\")\n",
    "        x=list(y)\n",
    "        x.remove(\"kiwi\")\n",
    "        y=tuple(x)\n",
    "        print(y)\n",
    "```"
   ]
  },
  {
   "attachments": {},
   "cell_type": "markdown",
   "id": "57ed8108",
   "metadata": {},
   "source": [
    "\n",
    "#### Dictionary\n",
    "\n",
    "A dictionary is an unordered collection of key-value pairs enclosed in curly braces ({}). Each key-value pair in a dictionary maps a unique key to its corresponding value."
   ]
  },
  {
   "cell_type": "code",
   "execution_count": 15,
   "id": "bacfb603",
   "metadata": {},
   "outputs": [],
   "source": [
    "person = {\n",
    "    'name': 'Alice',\n",
    "    'age': 25,\n",
    "    'city': 'New York'\n",
    "}\n",
    "# Accessing values\n",
    "name = person['name']\n",
    "age = person.get('age')\n",
    "\n",
    "# Modifying values\n",
    "person['age'] = 26\n",
    "\n",
    "# Dictionary operations\n",
    "person['country'] = 'USA'\n",
    "del person['city']"
   ]
  },
  {
   "cell_type": "code",
   "execution_count": 16,
   "id": "b2a98b3d",
   "metadata": {},
   "outputs": [
    {
     "data": {
      "text/plain": [
       "{'name': 'Alice', 'age': 26, 'country': 'USA'}"
      ]
     },
     "execution_count": 16,
     "metadata": {},
     "output_type": "execute_result"
    }
   ],
   "source": [
    "person"
   ]
  },
  {
   "attachments": {},
   "cell_type": "markdown",
   "id": "ced5e7a3",
   "metadata": {},
   "source": [
    ">### Exercise\n",
    "```python\n",
    "        #Nested Dictionaries\n",
    "        #A dictionary can also contain many dictionaries, this is called nested dictionaries.\n",
    "        myfamily = {\n",
    "        \"child1\" : {\n",
    "            \"name\" : \"A\",\n",
    "            \"year\" : 2004\n",
    "        },\n",
    "        \"child2\" : {\n",
    "            \"name\" : \"B\",\n",
    "            \"year\" : 2007\n",
    "        },\n",
    "        \"child3\" : {\n",
    "            \"name\" : \"C\",\n",
    "            \"year\" : 2011\n",
    "        }\n",
    "        }print(myfamily)\n",
    "\n",
    "        #Sort Python Dictionaries by Key or Value\n",
    "        a = {11:2 ,\n",
    "            12:1 ,\n",
    "            14:3 ,\n",
    "            13:4 ,\n",
    "            16:5 ,\n",
    "            15:6 }\n",
    "        print(sorted(a.keys(),reverse=True))#this will print a sorted list of the keys\n",
    "        print(sorted(a.values()))##this will print a sorted list of the values\n",
    "        #this will print a sorted list of values.\n",
    "        print(sorted(a.items()))\n",
    "        \n",
    "        #ZIP FUNCTION \n",
    "        keys = ['a','b','c','d','e']\n",
    "        values = [1,2,3,4,5]\n",
    "        myDict = dict(zip(keys, values)) \n",
    "        print (myDict)\n",
    "\n",
    "        # fromkeys() method that returns a dictionary with specific keys and values.\n",
    "        dic=dict.fromkeys(range(5),\"Preeti\")\n",
    "        print(dic)\n",
    "\n",
    "        # Using dictionary comprehension make dictionary\n",
    "        squares = {x: x**2 for x in range(1, 6)}\n",
    "        print(squares)\n",
    "\n",
    "        # Filtering \n",
    "        numbers = [1, 2, 3, 4, 5, 6, 7, 8, 9, 10]\n",
    "        even_dict = {num: num**2 for num in numbers if num % 2 == 0}\n",
    "        print(even_dict)\n",
    "\n",
    "        # Words\n",
    "        words = [\"apple\", \"banana\", \"cherry\", \"date\", \"elderberry\"]\n",
    "        length_dict = {word: len(word) for word in words}\n",
    "        print(length_dict)\n",
    "```"
   ]
  },
  {
   "attachments": {},
   "cell_type": "markdown",
   "id": "3ad35e5a",
   "metadata": {},
   "source": [
    "\n",
    "#### Sets and Set Operations\n",
    "\n",
    "A set is an unordered collection of unique elements enclosed in curly braces ({}). Sets provide operations for set arithmetic, such as union, intersection, and difference.\n"
   ]
  },
  {
   "cell_type": "code",
   "execution_count": 19,
   "id": "685b5259",
   "metadata": {},
   "outputs": [
    {
     "name": "stdout",
     "output_type": "stream",
     "text": [
      "{'lemon', 'apple', 'banana', 'orange', 'cherry'}\n",
      "set()\n"
     ]
    }
   ],
   "source": [
    "\n",
    "fruits = {'apple', 'banana', 'cherry'}\n",
    "citrus_fruits = {'orange', 'lemon'}\n",
    "\n",
    "# Set operations\n",
    "all_fruits = fruits.union(citrus_fruits)\n",
    "common_fruits = fruits.intersection(citrus_fruits)\n",
    "print(all_fruits)\n",
    "print(common_fruits)"
   ]
  },
  {
   "attachments": {},
   "cell_type": "markdown",
   "id": "49c8b00b",
   "metadata": {},
   "source": [
    ">### Exercise\n",
    "```python\n",
    "        # cannot access items in a set by referring to an index, since sets are unordered the \n",
    "        #items has no index.\n",
    "\n",
    "        thisset = {\"apple\", \"banana\", \"cherry\"}\n",
    "        for x in thisset:\n",
    "            print(x)\n",
    "\n",
    "        #Once a set is created, you cannot replace its items, but you can add new items.\n",
    "        #To add one item to a set use the add() method.\n",
    "        #To add more than one item to a set use the update() method.\n",
    "        thisset = {\"apple\", \"banana\", \"cherry\"}\n",
    "        thisset.add(\"orange\")\n",
    "        print(thisset)\n",
    "        thisset.update([\"Kiwi\", \"mango\", \"grapes\"])\n",
    "        print(thisset)\n",
    "\n",
    "        #The union() method returns a new set with all items from both sets:\n",
    "        set1 = {\"a\", 2, \"c\"}\n",
    "        set2 = {1, 2, 3}\n",
    "        set3 = set1.union(set2)\n",
    "        print(set3)\n",
    "\n",
    "        # Set comprehensions in Python provide a concise way to create sets using a compact syntax.\n",
    "        squares = {x**2 for x in range(1, 6)}\n",
    "        print(squares)\n",
    "\n",
    "        # List to set\n",
    "        numbers = [1, 2, 3, 4, 5, 6, 7, 8, 9, 10]\n",
    "        even_set = {num for num in numbers if num % 2 == 0}\n",
    "        print(even_set)\n",
    "\n",
    "        # checks whether all the characters in a string are alphabetic characters.\n",
    "        text = \"hello world\"\n",
    "        unique_chars = {char for char in text if char.isaplha()}\n",
    "        print(unique_chars)\n",
    "```"
   ]
  },
  {
   "attachments": {},
   "cell_type": "markdown",
   "id": "f9381f21",
   "metadata": {},
   "source": [
    "\n",
    "#### List Comprehension\n",
    "\n",
    "List comprehension is a concise way to create lists based on existing lists or other iterable objects. It allows you to combine looping and conditional statements in a single line of code.\n",
    "\n"
   ]
  },
  {
   "cell_type": "code",
   "execution_count": 8,
   "id": "1478816f",
   "metadata": {},
   "outputs": [],
   "source": [
    "\n",
    "numbers = [1, 2, 3, 4, 5]\n",
    "\n",
    "# List comprehension\n",
    "squared_numbers = [num ** 2 for num in numbers]\n",
    "even_numbers = [num for num in numbers if num % 2 == 0]\n",
    "\n",
    "# format: \n",
    "# <element> for <element> in <iterable/list> <if condition>"
   ]
  },
  {
   "attachments": {},
   "cell_type": "markdown",
   "id": "7eca8885",
   "metadata": {},
   "source": [
    ">### Exercise\n",
    "```python\n",
    "        string = \"Hello, World!\"\n",
    "        characters = [ch for ch in string]\n",
    "        print(characters)\n",
    "```"
   ]
  },
  {
   "attachments": {},
   "cell_type": "markdown",
   "id": "23e1e92e",
   "metadata": {},
   "source": [
    "\n",
    "\n",
    "#### Collections\n",
    "\n",
    "The `collections` module in Python provides specialized container datatypes that extend the capabilities of built-in containers. It includes data structures like `namedtuple`, `deque`, `Counter`, and more."
   ]
  },
  {
   "cell_type": "code",
   "execution_count": 21,
   "id": "9881cf6c",
   "metadata": {},
   "outputs": [
    {
     "name": "stdout",
     "output_type": "stream",
     "text": [
      "deque([2])\n",
      "Counter({'a': 5, 'b': 2, 'r': 2, 'c': 1, 'd': 1})\n"
     ]
    }
   ],
   "source": [
    "from collections import deque, Counter\n",
    "\n",
    "# it's a built in library with advanced data structures\n",
    "\n",
    "# deque\n",
    "queue = deque()\n",
    "queue.append(1)\n",
    "queue.append(2)\n",
    "queue.popleft()\n",
    "print(queue)\n",
    "\n",
    "# Counter\n",
    "\n",
    "# for common operations like counting an element from within an iterable, we can simply import counter class instead of creating loop logic for counting \n",
    "# from a list\n",
    "\n",
    "text = 'abracadabra'\n",
    "letter_counts = Counter(text)\n",
    "print(letter_counts)"
   ]
  },
  {
   "attachments": {},
   "cell_type": "markdown",
   "id": "2ec1679f",
   "metadata": {},
   "source": [
    "### Comparison Operators\n",
    "\n",
    "Comparison operators are used to compare values and return a Boolean result. They are commonly used in conditional statements and loops.\n"
   ]
  },
  {
   "cell_type": "code",
   "execution_count": 18,
   "id": "2cc4e945",
   "metadata": {},
   "outputs": [],
   "source": [
    "x = 5\n",
    "y = 10\n",
    "\n",
    "# Comparison operators\n",
    "greater_than = x > y\n",
    "less_than_equal = x <= y\n",
    "equal_to = x == y\n",
    "not_equal = x != y"
   ]
  },
  {
   "attachments": {},
   "cell_type": "markdown",
   "id": "575ae0e7",
   "metadata": {},
   "source": [
    "### If, elif, and else Statements\n",
    "\n",
    "Conditional statements are used to execute different blocks of code based on specific conditions. Python uses the `if`, `elif` (else if), and `else` statements for conditional branching."
   ]
  },
  {
   "cell_type": "code",
   "execution_count": 1,
   "id": "fb64f878",
   "metadata": {},
   "outputs": [
    {
     "name": "stdout",
     "output_type": "stream",
     "text": [
      "Positive\n",
      "Positive\n",
      "hi\n"
     ]
    }
   ],
   "source": [
    "x = 5\n",
    "\n",
    "# If statement\n",
    "if x > 0:\n",
    "    print('Positive')\n",
    "\n",
    "# If-elif-else statement\n",
    "if x > 0:\n",
    "    print('Positive')\n",
    "elif x < 0:\n",
    "    print('Negative')\n",
    "else:\n",
    "    print('Zero')"
   ]
  },
  {
   "attachments": {},
   "cell_type": "markdown",
   "id": "b28d1189",
   "metadata": {},
   "source": [
    "\n",
    "### For and While Loops\n",
    "\n",
    "Loops are used to repeatedly execute a block of code. Python provides two types of loops: `for` loop and `while` loop.\n",
    "\n",
    "With the while loop we can execute a set of statements as long as a condition is true.\n",
    "A for loop is used for iterating over a sequence (that is either a list, a tuple, a dictionary, a set, or a string).\n",
    "\n",
    "This is less like the for keyword in other programming languages, and works more like an iterator method as found in other object-orientated programming languages.\n",
    "\n",
    "With the for loop we can execute a set of statements, once for each item in a list, tuple, set etc."
   ]
  },
  {
   "cell_type": "code",
   "execution_count": 10,
   "id": "446ddcf7",
   "metadata": {},
   "outputs": [
    {
     "name": "stdout",
     "output_type": "stream",
     "text": [
      "apple\n",
      "banana\n",
      "cherry\n",
      "0\n",
      "1\n",
      "2\n",
      "3\n",
      "4\n"
     ]
    }
   ],
   "source": [
    "# For loop\n",
    "fruits = ['apple', 'banana', 'cherry']\n",
    "for fruit in fruits:\n",
    "    print(fruit)\n",
    "\n",
    "# While loop\n",
    "x = 0\n",
    "while x < 5:\n",
    "    print(x)\n",
    "    x += 1"
   ]
  },
  {
   "attachments": {},
   "cell_type": "markdown",
   "id": "f1d2590e",
   "metadata": {},
   "source": [
    "### Break and Continue Statements\n",
    "\n",
    "The `break` and `continue` statements are used to alter the flow of loops. The `break` statement terminates the loop and the `continue` statement skips the current iteration and moves to the next one."
   ]
  },
  {
   "cell_type": "code",
   "execution_count": 11,
   "id": "5cf8ee8f",
   "metadata": {},
   "outputs": [
    {
     "name": "stdout",
     "output_type": "stream",
     "text": [
      "apple\n",
      "1\n",
      "3\n",
      "5\n"
     ]
    }
   ],
   "source": [
    "\n",
    "# Break statement\n",
    "fruits = ['apple', 'banana', 'cherry']\n",
    "for fruit in fruits:\n",
    "    if fruit == 'banana':\n",
    "        break\n",
    "    print(fruit)\n",
    "\n",
    "# Continue statement\n",
    "numbers = [1, 2, 3, 4, 5]\n",
    "for num in numbers:\n",
    "    if num % 2 == 0:\n",
    "        continue\n",
    "    print(num)"
   ]
  },
  {
   "attachments": {},
   "cell_type": "markdown",
   "id": "33e9c8f8",
   "metadata": {},
   "source": [
    "\n",
    "### Range and Lists\n",
    "\n",
    "The `range` function is used to generate a sequence of numbers. It is commonly used with loops to iterate a specific number of times. Lists can be created using the `list` function or using list comprehension."
   ]
  },
  {
   "cell_type": "code",
   "execution_count": 4,
   "id": "33559f27",
   "metadata": {},
   "outputs": [
    {
     "name": "stdout",
     "output_type": "stream",
     "text": [
      "1\n",
      "2\n",
      "3\n",
      "4\n",
      "5\n"
     ]
    }
   ],
   "source": [
    "\n",
    "# Range and for loop\n",
    "for num in range(1, 6): # range will return an iterable object\n",
    "    print(num)\n",
    "\n",
    "# List creation\n",
    "numbers = list(range(1, 6)) # since list also an iterable object, we can convert range object to a python list easily with list() function\n",
    "squared_numbers = [num ** 2 for num in numbers]"
   ]
  },
  {
   "attachments": {},
   "cell_type": "markdown",
   "id": "3785f879",
   "metadata": {},
   "source": [
    "\n",
    "This covers the basic data types, data structures, comparison operators, conditional statements, loops, and control flow concepts in Python.\n",
    "\n",
    "Now you are ready to dive deeper into Python programming and explore its vast capabilities!"
   ]
  }
 ],
 "metadata": {
  "kernelspec": {
   "display_name": "Python 3",
   "language": "python",
   "name": "python3"
  },
  "language_info": {
   "codemirror_mode": {
    "name": "ipython",
    "version": 3
   },
   "file_extension": ".py",
   "mimetype": "text/x-python",
   "name": "python",
   "nbconvert_exporter": "python",
   "pygments_lexer": "ipython3",
   "version": "3.10.8"
  }
 },
 "nbformat": 4,
 "nbformat_minor": 5
}
