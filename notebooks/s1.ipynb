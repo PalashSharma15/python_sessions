{
 "cells": [
  {
   "attachments": {},
   "cell_type": "markdown",
   "metadata": {},
   "source": [
    "# Introduction to Python Programming\n",
    "\n",
    "This Jupyter Notebook provides an introduction to the Python programming language. It covers various topics such as Python overview, features of Python, environment set-up, Jupyter Notebook overview, and Python basics.\n"
   ]
  },
  {
   "attachments": {},
   "cell_type": "markdown",
   "metadata": {},
   "source": [
    "## Python Overview\n",
    "\n",
    "Python is a high-level, interpreted programming language known for its simplicity and readability. It was created by Guido van Rossum and first released in 1991. Python emphasizes code readability and uses indentation and whitespace to define code blocks.\n"
   ]
  },
  {
   "attachments": {},
   "cell_type": "markdown",
   "metadata": {},
   "source": [
    "## Features of Python\n",
    "\n",
    "- **Simple and Easy to Learn:** Python has a syntax that is easy to understand and write, making it a great language for beginners.\n",
    "- **Expressive and Readable:** Python's code is designed to be clear and readable, enhancing productivity and collaboration.\n",
    "- **Versatile and Flexible:** Python can be used for various purposes, such as web development, data analysis, machine learning, and more.\n",
    "- **Large Standard Library:** Python comes with a rich collection of modules and libraries that provide ready-to-use functions and tools.\n",
    "- **Cross-platform:** Python is available on multiple platforms, including Windows, macOS, and Linux, making it highly portable.\n"
   ]
  },
  {
   "attachments": {},
   "cell_type": "markdown",
   "metadata": {},
   "source": [
    "## Python Environment Set-up and Installation\n",
    "\n",
    "To get started with Python, you need to set up the Python environment on your computer. Here are the general steps:\n",
    "\n",
    "1. **Download Python**: Visit the official Python website (https://www.python.org) and download the latest version of Python.\n",
    "2. **Install Python**: Run the downloaded installer and follow the installation instructions.\n",
    "3. **Verify Installation**: Open a terminal or command prompt and type `python --version` to check if Python is installed correctly.\n"
   ]
  },
  {
   "attachments": {},
   "cell_type": "markdown",
   "metadata": {},
   "source": [
    "## Jupyter Notebook Overview\n",
    "\n",
    "Jupyter Notebook is an open-source web application that allows you to create and share documents containing live code, equations, visualizations, and explanatory text. It is widely used in data science and provides an interactive and flexible environment for programming.\n",
    "\n",
    "Jupyter Notebook is based on the concept of cells, where each cell can contain either code or markdown content. Code cells allow you to write and execute code, while markdown cells enable you to add formatted text and documentation.\n"
   ]
  },
  {
   "attachments": {},
   "cell_type": "markdown",
   "id": "0e1dd497",
   "metadata": {},
   "source": [
    "## Python Basics\n",
    "\n",
    "### Basic Data Types\n",
    "\n",
    "#### Numbers\n",
    "\n",
    "Python supports various numeric data types, including integers, floats, and complex numbers. These data types allow you to perform arithmetic operations such as addition, subtraction, multiplication, and division."
   ]
  },
  {
   "cell_type": "code",
   "execution_count": 13,
   "id": "2c5200c6",
   "metadata": {},
   "outputs": [],
   "source": [
    "x = 10  # integer\n",
    "y = 3.14  # float\n",
    "z = 2 + 3j  # complex\n",
    "\n",
    "# Arithmetic operations\n",
    "addition = x + y\n",
    "subtraction = x - y\n",
    "multiplication = x * y\n",
    "division = x / y"
   ]
  },
  {
   "attachments": {},
   "cell_type": "markdown",
   "id": "6aedebed",
   "metadata": {},
   "source": [
    "\n",
    "#### Strings\n",
    "\n",
    "Strings are sequences of characters enclosed in single quotes ('') or double quotes (\"\"). Python provides a rich set of string manipulation methods and supports various operations like concatenation, slicing, and formatting."
   ]
  },
  {
   "cell_type": "code",
   "execution_count": 14,
   "id": "3fe16e36",
   "metadata": {},
   "outputs": [],
   "source": [
    "message = 'Hello, World!'\n",
    "name = 'Alice'\n",
    "# String operations\n",
    "concatenated = message + ' My name is ' + name\n",
    "length = len(message)\n",
    "substring = message[7:12]\n",
    "formatted = 'My name is {} and I am {} years old'.format(name, 25)"
   ]
  },
  {
   "attachments": {},
   "cell_type": "markdown",
   "id": "f4ef7ff0",
   "metadata": {},
   "source": [
    "\n",
    "#### Print Formatting\n",
    "\n",
    "The `print` function in Python allows you to format and display output in a specific way. You can use placeholders and formatting options to control the appearance of the printed output.\n"
   ]
  },
  {
   "cell_type": "code",
   "execution_count": 15,
   "id": "780924ce",
   "metadata": {},
   "outputs": [
    {
     "name": "stdout",
     "output_type": "stream",
     "text": [
      "My name is Alice and I am 25 years old\n",
      "My name is Alice and I am 25 years old\n",
      "My name is Alice and I am 25 years old\n"
     ]
    }
   ],
   "source": [
    "name = 'Alice'\n",
    "age = 25\n",
    "\n",
    "# Print formatting\n",
    "print('My name is', name, 'and I am', age, 'years old')\n",
    "print('My name is {} and I am {} years old'.format(name, age))\n",
    "print(f'My name is {name} and I am {age} years old')"
   ]
  },
  {
   "attachments": {},
   "cell_type": "markdown",
   "id": "b2e81042",
   "metadata": {},
   "source": [
    "\n",
    "#### Booleans\n",
    "\n",
    "Booleans represent the truth values `True` and `False`. They are commonly used in conditional statements and logical operations.\n"
   ]
  },
  {
   "cell_type": "code",
   "execution_count": 16,
   "id": "645085e2",
   "metadata": {},
   "outputs": [],
   "source": [
    "is_valid = True\n",
    "is_complete = False\n",
    "\n",
    "# Logical operations\n",
    "result = is_valid and is_complete\n"
   ]
  },
  {
   "attachments": {},
   "cell_type": "markdown",
   "id": "973057f0",
   "metadata": {},
   "source": [
    "### Data Structures\n",
    "\n",
    "#### List\n",
    "\n",
    "A list is a mutable, ordered collection of elements enclosed in square brackets ([]). Lists can contain elements of different data types and allow indexing, slicing, and various manipulation operations.\n"
   ]
  },
  {
   "cell_type": "code",
   "execution_count": 20,
   "id": "755c70b9",
   "metadata": {},
   "outputs": [
    {
     "data": {
      "text/plain": [
       "5"
      ]
     },
     "execution_count": 20,
     "metadata": {},
     "output_type": "execute_result"
    }
   ],
   "source": [
    "fruits = ['apple', 'banana', 'cherry']\n",
    "numbers = [1, 2, 3, 4, 5]\n",
    "\n",
    "# Accessing elements\n",
    "first_fruit = fruits[0]\n",
    "last_number = numbers[-1]\n",
    "\n",
    "# Modifying elements\n",
    "fruits[1] = 'orange'\n",
    "\n",
    "# List operations\n",
    "fruits.append('mango')\n",
    "numbers.pop()"
   ]
  },
  {
   "attachments": {},
   "cell_type": "markdown",
   "id": "8c249474",
   "metadata": {},
   "source": [
    "\n",
    "#### Tuple\n",
    "\n",
    "A tuple is an immutable, ordered collection of elements enclosed in parentheses (()). Tuples are similar to lists but cannot be modified once created.\n"
   ]
  },
  {
   "cell_type": "code",
   "execution_count": 17,
   "id": "dd316e72",
   "metadata": {},
   "outputs": [],
   "source": [
    "\n",
    "person = ('Alice', 25, 'New York')\n",
    "\n",
    "# Accessing elements\n",
    "name = person[0]\n",
    "age = person[1]\n",
    "\n",
    "# Tuple packing and unpacking\n",
    "x = 1\n",
    "y = 2\n",
    "coordinates = x, y\n",
    "a, b = coordinates"
   ]
  },
  {
   "attachments": {},
   "cell_type": "markdown",
   "id": "57ed8108",
   "metadata": {},
   "source": [
    "\n",
    "#### Dictionary\n",
    "\n",
    "A dictionary is an unordered collection of key-value pairs enclosed in curly braces ({}). Each key-value pair in a dictionary maps a unique key to its corresponding value."
   ]
  },
  {
   "cell_type": "code",
   "execution_count": 6,
   "id": "bacfb603",
   "metadata": {},
   "outputs": [],
   "source": [
    "person = {\n",
    "    'name': 'Alice',\n",
    "    'age': 25,\n",
    "    'city': 'New York'\n",
    "}\n",
    "# Accessing values\n",
    "name = person['name']\n",
    "age = person.get('age')\n",
    "\n",
    "# Modifying values\n",
    "person['age'] = 26\n",
    "\n",
    "# Dictionary operations\n",
    "person['country'] = 'USA'\n",
    "del person['city']"
   ]
  },
  {
   "attachments": {},
   "cell_type": "markdown",
   "id": "3ad35e5a",
   "metadata": {},
   "source": [
    "\n",
    "#### Sets and Set Operations\n",
    "\n",
    "A set is an unordered collection of unique elements enclosed in curly braces ({}). Sets provide operations for set arithmetic, such as union, intersection, and difference.\n"
   ]
  },
  {
   "cell_type": "code",
   "execution_count": 7,
   "id": "685b5259",
   "metadata": {},
   "outputs": [],
   "source": [
    "\n",
    "fruits = {'apple', 'banana', 'cherry'}\n",
    "citrus_fruits = {'orange', 'lemon'}\n",
    "\n",
    "# Set operations\n",
    "all_fruits = fruits.union(citrus_fruits)\n",
    "common_fruits = fruits.intersection(citrus_fruits)\n"
   ]
  },
  {
   "attachments": {},
   "cell_type": "markdown",
   "id": "f9381f21",
   "metadata": {},
   "source": [
    "\n",
    "#### List Comprehension\n",
    "\n",
    "List comprehension is a concise way to create lists based on existing lists or other iterable objects. It allows you to combine looping and conditional statements in a single line of code.\n",
    "\n"
   ]
  },
  {
   "cell_type": "code",
   "execution_count": 8,
   "id": "1478816f",
   "metadata": {},
   "outputs": [],
   "source": [
    "\n",
    "numbers = [1, 2, 3, 4, 5]\n",
    "\n",
    "# List comprehension\n",
    "squared_numbers = [num ** 2 for num in numbers]\n",
    "even_numbers = [num for num in numbers if num % 2 == 0]\n"
   ]
  },
  {
   "attachments": {},
   "cell_type": "markdown",
   "id": "23e1e92e",
   "metadata": {},
   "source": [
    "\n",
    "\n",
    "#### Collections\n",
    "\n",
    "The `collections` module in Python provides specialized container datatypes that extend the capabilities of built-in containers. It includes data structures like `namedtuple`, `deque`, `Counter`, and more."
   ]
  },
  {
   "cell_type": "code",
   "execution_count": 21,
   "id": "9881cf6c",
   "metadata": {},
   "outputs": [
    {
     "name": "stdout",
     "output_type": "stream",
     "text": [
      "deque([2])\n",
      "Counter({'a': 5, 'b': 2, 'r': 2, 'c': 1, 'd': 1})\n"
     ]
    }
   ],
   "source": [
    "from collections import deque, Counter\n",
    "\n",
    "# deque\n",
    "queue = deque()\n",
    "queue.append(1)\n",
    "queue.append(2)\n",
    "queue.popleft()\n",
    "print(queue)\n",
    "\n",
    "# Counter\n",
    "text = 'abracadabra'\n",
    "letter_counts = Counter(text)\n",
    "print(letter_counts)\n"
   ]
  },
  {
   "attachments": {},
   "cell_type": "markdown",
   "id": "2ec1679f",
   "metadata": {},
   "source": [
    "### Comparison Operators\n",
    "\n",
    "Comparison operators are used to compare values and return a Boolean result. They are commonly used in conditional statements and loops.\n"
   ]
  },
  {
   "cell_type": "code",
   "execution_count": 18,
   "id": "2cc4e945",
   "metadata": {},
   "outputs": [],
   "source": [
    "x = 5\n",
    "y = 10\n",
    "\n",
    "# Comparison operators\n",
    "greater_than = x > y\n",
    "less_than_equal = x <= y\n",
    "equal_to = x == y\n",
    "not_equal = x != y"
   ]
  },
  {
   "attachments": {},
   "cell_type": "markdown",
   "id": "575ae0e7",
   "metadata": {},
   "source": [
    "### If, elif, and else Statements\n",
    "\n",
    "Conditional statements are used to execute different blocks of code based on specific conditions. Python uses the `if`, `elif` (else if), and `else` statements for conditional branching."
   ]
  },
  {
   "cell_type": "code",
   "execution_count": 19,
   "id": "fb64f878",
   "metadata": {},
   "outputs": [
    {
     "name": "stdout",
     "output_type": "stream",
     "text": [
      "Positive\n",
      "Positive\n"
     ]
    }
   ],
   "source": [
    "x = 5\n",
    "\n",
    "# If statement\n",
    "if x > 0:\n",
    "    print('Positive')\n",
    "\n",
    "# If-elif-else statement\n",
    "if x > 0:\n",
    "    print('Positive')\n",
    "elif x < 0:\n",
    "    print('Negative')\n",
    "else:\n",
    "    print('Zero')"
   ]
  },
  {
   "attachments": {},
   "cell_type": "markdown",
   "id": "b28d1189",
   "metadata": {},
   "source": [
    "\n",
    "### For and While Loops\n",
    "\n",
    "Loops are used to repeatedly execute a block of code. Python provides two types of loops: `for` loop and `while` loop."
   ]
  },
  {
   "cell_type": "code",
   "execution_count": 10,
   "id": "446ddcf7",
   "metadata": {},
   "outputs": [
    {
     "name": "stdout",
     "output_type": "stream",
     "text": [
      "apple\n",
      "banana\n",
      "cherry\n",
      "0\n",
      "1\n",
      "2\n",
      "3\n",
      "4\n"
     ]
    }
   ],
   "source": [
    "# For loop\n",
    "fruits = ['apple', 'banana', 'cherry']\n",
    "for fruit in fruits:\n",
    "    print(fruit)\n",
    "\n",
    "# While loop\n",
    "x = 0\n",
    "while x < 5:\n",
    "    print(x)\n",
    "    x += 1\n"
   ]
  },
  {
   "attachments": {},
   "cell_type": "markdown",
   "id": "f1d2590e",
   "metadata": {},
   "source": [
    "### Break and Continue Statements\n",
    "\n",
    "The `break` and `continue` statements are used to alter the flow of loops. The `break` statement terminates the loop and the `continue` statement skips the current iteration and moves to the next one."
   ]
  },
  {
   "cell_type": "code",
   "execution_count": 11,
   "id": "5cf8ee8f",
   "metadata": {},
   "outputs": [
    {
     "name": "stdout",
     "output_type": "stream",
     "text": [
      "apple\n",
      "1\n",
      "3\n",
      "5\n"
     ]
    }
   ],
   "source": [
    "\n",
    "# Break statement\n",
    "fruits = ['apple', 'banana', 'cherry']\n",
    "for fruit in fruits:\n",
    "    if fruit == 'banana':\n",
    "        break\n",
    "    print(fruit)\n",
    "\n",
    "# Continue statement\n",
    "numbers = [1, 2, 3, 4, 5]\n",
    "for num in numbers:\n",
    "    if num % 2 == 0:\n",
    "        continue\n",
    "    print(num)"
   ]
  },
  {
   "attachments": {},
   "cell_type": "markdown",
   "id": "33e9c8f8",
   "metadata": {},
   "source": [
    "\n",
    "### Range and Lists\n",
    "\n",
    "The `range` function is used to generate a sequence of numbers. It is commonly used with loops to iterate a specific number of times. Lists can be created using the `list` function or using list comprehension."
   ]
  },
  {
   "cell_type": "code",
   "execution_count": 12,
   "id": "33559f27",
   "metadata": {},
   "outputs": [
    {
     "name": "stdout",
     "output_type": "stream",
     "text": [
      "1\n",
      "2\n",
      "3\n",
      "4\n",
      "5\n"
     ]
    }
   ],
   "source": [
    "\n",
    "# Range and for loop\n",
    "for num in range(1, 6):\n",
    "    print(num)\n",
    "\n",
    "# List creation\n",
    "numbers = list(range(1, 6))\n",
    "squared_numbers = [num ** 2 for num in numbers]"
   ]
  },
  {
   "attachments": {},
   "cell_type": "markdown",
   "id": "3785f879",
   "metadata": {},
   "source": [
    "\n",
    "This covers the basic data types, data structures, comparison operators, conditional statements, loops, and control flow concepts in Python.\n",
    "\n",
    "Now you are ready to dive deeper into Python programming and explore its vast capabilities!"
   ]
  }
 ],
 "metadata": {
  "kernelspec": {
   "display_name": "Python 3",
   "language": "python",
   "name": "python3"
  },
  "language_info": {
   "codemirror_mode": {
    "name": "ipython",
    "version": 3
   },
   "file_extension": ".py",
   "mimetype": "text/x-python",
   "name": "python",
   "nbconvert_exporter": "python",
   "pygments_lexer": "ipython3",
   "version": "3.10.8"
  }
 },
 "nbformat": 4,
 "nbformat_minor": 5
}
