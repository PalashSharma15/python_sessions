{
  "cells": [
    {
      "attachments": {},
      "cell_type": "markdown",
      "id": "378e01ab",
      "metadata": {},
      "source": [
        "# Python Built-in Functions\n",
        "\n",
        "Python provides a set of built-in functions that are readily available for use. These functions perform common operations and can be used directly without the need for additional imports.\n"
      ]
    },
    {
      "attachments": {},
      "cell_type": "markdown",
      "id": "bc774d51",
      "metadata": {},
      "source": [
        "## 1. Range()\n",
        "\n",
        "The `range()` function generates a sequence of numbers within a specified range. It is commonly used with loops to iterate a specific number of times.\n",
        "\n",
        "Example:\n"
      ]
    },
    {
      "cell_type": "code",
      "execution_count": null,
      "id": "18423a82",
      "metadata": {},
      "outputs": [],
      "source": [
        "for num in range(5):\n",
        "    print(num)\n"
      ]
    },
    {
      "attachments": {},
      "cell_type": "markdown",
      "id": "e9f8c387",
      "metadata": {},
      "source": [
        "## 2. Len()\n",
        "\n",
        "The `len()` function returns the length or the number of items in an object such as a string, list, or tuple.\n",
        "\n",
        "Example:\n"
      ]
    },
    {
      "cell_type": "code",
      "execution_count": null,
      "id": "21d32fd0",
      "metadata": {},
      "outputs": [],
      "source": [
        "name = 'Alice'\n",
        "length = len(name)\n",
        "print(length)\n"
      ]
    },
    {
      "attachments": {},
      "cell_type": "markdown",
      "id": "657f6c98",
      "metadata": {},
      "source": [
        "## 3. Dir()\n",
        "\n",
        "The `dir()` function returns a list of names in the current local scope or a specified object. It is commonly used for exploring the attributes and methods of an object.\n",
        "\n",
        "Example:\n"
      ]
    },
    {
      "cell_type": "code",
      "execution_count": null,
      "id": "b8a181df",
      "metadata": {},
      "outputs": [],
      "source": [
        "numbers = [1, 2, 3]\n",
        "dir_result = dir(numbers)\n",
        "print(dir_result)\n"
      ]
    },
    {
      "attachments": {},
      "cell_type": "markdown",
      "metadata": {},
      "source": [
        "# Standard Libraries\n",
        "\n",
        "Python comes with a set of standard libraries that provide additional functionality beyond the built-in functions. These libraries are available for use after importing them into your code.\n"
      ]
    },
    {
      "attachments": {},
      "cell_type": "markdown",
      "id": "ce5000d4",
      "metadata": {},
      "source": [
        "## 1. os\n",
        "\n",
        "The `os` module provides a way to interact with the operating system. It offers various functions for file and directory operations, environment variables, and more.\n",
        "\n",
        "Example 1: Get the current working directory\n"
      ]
    },
    {
      "cell_type": "code",
      "execution_count": null,
      "id": "89980aa1",
      "metadata": {},
      "outputs": [],
      "source": [
        "import os\n",
        "current_directory = os.getcwd()\n",
        "print(current_directory)\n"
      ]
    },
    {
      "attachments": {},
      "cell_type": "markdown",
      "id": "696c724e",
      "metadata": {},
      "source": [
        "Example 2: Create a new directory\n"
      ]
    },
    {
      "cell_type": "code",
      "execution_count": null,
      "id": "6b2f105a",
      "metadata": {},
      "outputs": [],
      "source": [
        "new_directory = 'my_directory'\n",
        "os.mkdir(new_directory)\n"
      ]
    },
    {
      "attachments": {},
      "cell_type": "markdown",
      "id": "2781314e",
      "metadata": {},
      "source": [
        "## 2. sys\n",
        "\n",
        "The `sys` module provides access to various system-specific parameters and functions. It allows interaction with the interpreter and provides information about the runtime environment.\n",
        "\n",
        "Example 1: Get the Python version information\n"
      ]
    },
    {
      "cell_type": "code",
      "execution_count": null,
      "id": "2d7356a9",
      "metadata": {},
      "outputs": [],
      "source": [
        "import sys\n",
        "version_info = sys.version_info\n",
        "print(version_info)\n"
      ]
    },
    {
      "attachments": {},
      "cell_type": "markdown",
      "id": "90d923a3",
      "metadata": {},
      "source": [
        "Example 2: Terminate the program with an error message\n"
      ]
    },
    {
      "cell_type": "code",
      "execution_count": null,
      "id": "6809c40d",
      "metadata": {},
      "outputs": [],
      "source": [
        "sys.exit('An error occurred.')\n"
      ]
    },
    {
      "attachments": {},
      "cell_type": "markdown",
      "id": "738c9dde",
      "metadata": {},
      "source": [
        "## 3. csv\n",
        "\n",
        "The `csv` module provides functionality for reading and writing CSV (Comma-Separated Values) files. It offers methods for parsing CSV data and generating CSV output.\n",
        "\n",
        "Example 1: Read data from a CSV file\n"
      ]
    },
    {
      "cell_type": "code",
      "execution_count": null,
      "id": "ac3d4c12",
      "metadata": {},
      "outputs": [],
      "source": [
        "import csv\n",
        "with open('data.csv', 'r') as file:\n",
        "    reader = csv.reader(file)\n",
        "    for row in reader:\n",
        "        print(row)\n"
      ]
    },
    {
      "attachments": {},
      "cell_type": "markdown",
      "id": "c9d30b68",
      "metadata": {},
      "source": [
        "Example 2: Write data to a CSV file\n"
      ]
    },
    {
      "cell_type": "code",
      "execution_count": null,
      "id": "735a1369",
      "metadata": {},
      "outputs": [],
      "source": [
        "data = [\n",
        "    ['Name', 'Age', 'City'],\n",
        "    ['John', '25', 'New York'],\n",
        "    ['Alice', '30', 'London'],\n",
        "    ['Bob', '35', 'Paris']\n",
        "]\n",
        "with open('output.csv', 'w', newline='') as file:\n",
        "    writer = csv.writer(file)\n",
        "    writer.writerows(data)\n"
      ]
    },
    {
      "attachments": {},
      "cell_type": "markdown",
      "id": "6e391cba",
      "metadata": {},
      "source": [
        "## 4. datetime\n",
        "\n",
        "The `datetime` module provides classes for working with dates and times. It allows operations such as creating, manipulating, and formatting dates and times.\n",
        "\n",
        "Example 1: Get the current date and time\n"
      ]
    },
    {
      "cell_type": "code",
      "execution_count": null,
      "id": "0cebebf1",
      "metadata": {},
      "outputs": [],
      "source": [
        "from datetime import datetime\n",
        "current_time = datetime.now()\n",
        "print(current_time)\n"
      ]
    },
    {
      "attachments": {},
      "cell_type": "markdown",
      "id": "1f58fcf2",
      "metadata": {},
      "source": [
        "Example 2: Format a date and time as a string\n"
      ]
    },
    {
      "cell_type": "code",
      "execution_count": null,
      "id": "979e0a10",
      "metadata": {},
      "outputs": [],
      "source": [
        "date_time = datetime(2023, 5, 1, 12, 30, 0)\n",
        "formatted_string = date_time.strftime('%Y-%m-%d %H:%M:%S')\n",
        "print(formatted_string)\n"
      ]
    },
    {
      "attachments": {},
      "cell_type": "markdown",
      "id": "5fdff403",
      "metadata": {},
      "source": [
        "## 5. time\n",
        "\n",
        "The `time` module provides functions for working with time-related operations. It allows measuring time intervals, formatting time, and more.\n",
        "\n",
        "Example 1: Sleep for a specified number of seconds\n"
      ]
    },
    {
      "cell_type": "code",
      "execution_count": null,
      "id": "a91fa347",
      "metadata": {},
      "outputs": [],
      "source": [
        "import time\n",
        "time.sleep(5)\n"
      ]
    },
    {
      "attachments": {},
      "cell_type": "markdown",
      "id": "4c7cf26a",
      "metadata": {},
      "source": [
        "Example 2: Measure the time taken to execute a code block\n"
      ]
    },
    {
      "cell_type": "code",
      "execution_count": null,
      "id": "24ca84b2",
      "metadata": {},
      "outputs": [],
      "source": [
        "start_time = time.time()\n",
        "for i in range(1000000):\n",
        "    pass\n",
        "end_time = time.time()\n",
        "elapsed_time = end_time - start_time\n",
        "print(f'Time taken: {elapsed_time} seconds')\n"
      ]
    }
  ],
  "metadata": {
    "kernelspec": {
      "display_name": "Python 3",
      "language": "python",
      "name": "python3"
    },
    "language_info": {
      "codemirror_mode": {
        "name": "ipython",
        "version": 3
      },
      "file_extension": ".py",
      "mimetype": "text/x-python",
      "name": "python",
      "nbconvert_exporter": "python",
      "pygments_lexer": "ipython3",
      "version": "3.7.12"
    }
  },
  "nbformat": 4,
  "nbformat_minor": 5
}
