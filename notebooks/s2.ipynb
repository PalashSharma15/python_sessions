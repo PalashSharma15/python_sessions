{
  "cells": [
    {
      "attachments": {},
      "cell_type": "markdown",
      "id": "378e01ab",
      "metadata": {},
      "source": [
        "# Python Built-in Functions\n",
        "\n",
        "Python provides a set of built-in functions that are readily available for use. These functions perform common operations and can be used directly without the need for additional imports.\n"
      ]
    },
    {
      "attachments": {},
      "cell_type": "markdown",
      "id": "bc774d51",
      "metadata": {},
      "source": [
        "## 1. Range()\n",
        "\n",
        "The `range()` function generates a sequence of numbers within a specified range. It is commonly used with loops to iterate a specific number of times.\n",
        "\n",
        "Example:\n"
      ]
    },
    {
      "cell_type": "code",
      "execution_count": null,
      "id": "18423a82",
      "metadata": {},
      "outputs": [],
      "source": [
        "for num in range(5):\n",
        "    print(num)\n"
      ]
    },
    {
      "attachments": {},
      "cell_type": "markdown",
      "id": "e9f8c387",
      "metadata": {},
      "source": [
        "## 2. Len()\n",
        "\n",
        "The `len()` function returns the length or the number of items in an object such as a string, list, or tuple.\n",
        "\n",
        "Example:\n"
      ]
    },
    {
      "cell_type": "code",
      "execution_count": null,
      "id": "21d32fd0",
      "metadata": {},
      "outputs": [],
      "source": [
        "name = 'Alice'\n",
        "length = len(name)\n",
        "print(length)\n"
      ]
    },
    {
      "attachments": {},
      "cell_type": "markdown",
      "id": "657f6c98",
      "metadata": {},
      "source": [
        "## 3. Dir()\n",
        "\n",
        "The `dir()` function returns a list of names in the current local scope or a specified object. It is commonly used for exploring the attributes and methods of an object.\n",
        "\n",
        "Example:\n"
      ]
    },
    {
      "cell_type": "code",
      "execution_count": null,
      "id": "b8a181df",
      "metadata": {},
      "outputs": [],
      "source": [
        "numbers = [1, 2, 3]\n",
        "dir_result = dir(numbers)\n",
        "print(dir_result)\n"
      ]
    },
    {
      "attachments": {},
      "cell_type": "markdown",
      "metadata": {},
      "source": [
        "# Standard Libraries\n",
        "\n",
        "Python comes with a set of standard libraries that provide additional functionality beyond the built-in functions. These libraries are available for use after importing them into your code.\n"
      ]
    },
    {
      "attachments": {},
      "cell_type": "markdown",
      "id": "ce5000d4",
      "metadata": {},
      "source": [
        "## 1. os\n",
        "\n",
        "The `os` module provides a way to interact with the operating system. It offers various functions for file and directory operations, environment variables, and more.\n",
        "\n",
        "Example 1: Get the current working directory\n"
      ]
    },
    {
      "cell_type": "code",
      "execution_count": null,
      "id": "89980aa1",
      "metadata": {},
      "outputs": [],
      "source": [
        "import os\n",
        "current_directory = os.getcwd()\n",
        "print(current_directory)\n"
      ]
    },
    {
      "attachments": {},
      "cell_type": "markdown",
      "id": "696c724e",
      "metadata": {},
      "source": [
        "Example 2: Create a new directory\n"
      ]
    },
    {
      "cell_type": "code",
      "execution_count": null,
      "id": "6b2f105a",
      "metadata": {},
      "outputs": [],
      "source": [
        "new_directory = 'my_directory'\n",
        "os.mkdir(new_directory)\n"
      ]
    },
    {
      "attachments": {},
      "cell_type": "markdown",
      "id": "2781314e",
      "metadata": {},
      "source": [
        "## 2. sys\n",
        "\n",
        "The `sys` module provides access to various system-specific parameters and functions. It allows interaction with the interpreter and provides information about the runtime environment.\n",
        "\n",
        "Example 1: Get the Python version information\n"
      ]
    },
    {
      "cell_type": "code",
      "execution_count": null,
      "id": "2d7356a9",
      "metadata": {},
      "outputs": [],
      "source": [
        "import sys\n",
        "version_info = sys.version_info\n",
        "print(version_info)\n"
      ]
    },
    {
      "attachments": {},
      "cell_type": "markdown",
      "id": "90d923a3",
      "metadata": {},
      "source": [
        "Example 2: Terminate the program with an error message\n"
      ]
    },
    {
      "cell_type": "code",
      "execution_count": null,
      "id": "6809c40d",
      "metadata": {},
      "outputs": [],
      "source": [
        "sys.exit('An error occurred.')\n"
      ]
    },
    {
      "attachments": {},
      "cell_type": "markdown",
      "id": "738c9dde",
      "metadata": {},
      "source": [
        "## 3. csv\n",
        "\n",
        "The `csv` module provides functionality for reading and writing CSV (Comma-Separated Values) files. It offers methods for parsing CSV data and generating CSV output.\n",
        "\n",
        "Example 1: Read data from a CSV file\n"
      ]
    },
    {
      "cell_type": "code",
      "execution_count": null,
      "id": "ac3d4c12",
      "metadata": {},
      "outputs": [],
      "source": [
        "import csv\n",
        "with open('data.csv', 'r') as file:\n",
        "    reader = csv.reader(file)\n",
        "    for row in reader:\n",
        "        print(row)\n"
      ]
    },
    {
      "attachments": {},
      "cell_type": "markdown",
      "id": "c9d30b68",
      "metadata": {},
      "source": [
        "Example 2: Write data to a CSV file\n"
      ]
    },
    {
      "cell_type": "code",
      "execution_count": null,
      "id": "735a1369",
      "metadata": {},
      "outputs": [],
      "source": [
        "data = [\n",
        "    ['Name', 'Age', 'City'],\n",
        "    ['John', '25', 'New York'],\n",
        "    ['Alice', '30', 'London'],\n",
        "    ['Bob', '35', 'Paris']\n",
        "]\n",
        "with open('output.csv', 'w', newline='') as file:\n",
        "    writer = csv.writer(file)\n",
        "    writer.writerows(data)\n"
      ]
    },
    {
      "attachments": {},
      "cell_type": "markdown",
      "id": "6e391cba",
      "metadata": {},
      "source": [
        "## 4. datetime\n",
        "\n",
        "The `datetime` module provides classes for working with dates and times. It allows operations such as creating, manipulating, and formatting dates and times.\n",
        "\n",
        "Example 1: Get the current date and time\n"
      ]
    },
    {
      "cell_type": "code",
      "execution_count": null,
      "id": "0cebebf1",
      "metadata": {},
      "outputs": [],
      "source": [
        "from datetime import datetime\n",
        "current_time = datetime.now()\n",
        "print(current_time)\n"
      ]
    },
    {
      "attachments": {},
      "cell_type": "markdown",
      "id": "1f58fcf2",
      "metadata": {},
      "source": [
        "Example 2: Format a date and time as a string\n"
      ]
    },
    {
      "cell_type": "code",
      "execution_count": null,
      "id": "979e0a10",
      "metadata": {},
      "outputs": [],
      "source": [
        "date_time = datetime(2023, 5, 1, 12, 30, 0)\n",
        "formatted_string = date_time.strftime('%Y-%m-%d %H:%M:%S')\n",
        "print(formatted_string)\n"
      ]
    },
    {
      "attachments": {},
      "cell_type": "markdown",
      "id": "5fdff403",
      "metadata": {},
      "source": [
        "## 5. time\n",
        "\n",
        "The `time` module provides functions for working with time-related operations. It allows measuring time intervals, formatting time, and more.\n",
        "\n",
        "Example 1: Sleep for a specified number of seconds\n"
      ]
    },
    {
      "cell_type": "code",
      "execution_count": null,
      "id": "a91fa347",
      "metadata": {},
      "outputs": [],
      "source": [
        "import time\n",
        "time.sleep(5)\n"
      ]
    },
    {
      "attachments": {},
      "cell_type": "markdown",
      "id": "4c7cf26a",
      "metadata": {},
      "source": [
        "Example 2: Measure the time taken to execute a code block\n"
      ]
    },
    {
      "cell_type": "code",
      "execution_count": null,
      "id": "24ca84b2",
      "metadata": {},
      "outputs": [],
      "source": [
        "start_time = time.time()\n",
        "for i in range(1000000):\n",
        "    pass\n",
        "end_time = time.time()\n",
        "elapsed_time = end_time - start_time\n",
        "print(f'Time taken: {elapsed_time} seconds')\n"
      ]
    },
    {
      "attachments": {},
      "cell_type": "markdown",
      "metadata": {},
      "source": [
        "# Functions and Lambda Expressions\n",
        "\n",
        "In Python, functions are reusable blocks of code that perform specific tasks. They help in organizing code, improving code reusability, and enhancing readability.\n",
        "\n",
        "In this notebook, we will explore various concepts related to functions and lambda expressions."
      ]
    },
    {
      "attachments": {},
      "cell_type": "markdown",
      "metadata": {},
      "source": [
        "## Defining Functions\n",
        "\n",
        "Functions in Python are defined using the `def` keyword followed by the function name, parentheses `()`, and a colon `:`. The code block for the function is indented below the function definition.\n",
        "\n",
        "Let's see an example of defining a function that prints 'Hello, World!':"
      ]
    },
    {
      "cell_type": "code",
      "execution_count": null,
      "metadata": {},
      "outputs": [],
      "source": [
        "def say_hello():\n",
        "    print('Hello, World!')\n",
        "\n",
        "# Call the function\n",
        "say_hello()"
      ]
    },
    {
      "attachments": {},
      "cell_type": "markdown",
      "metadata": {},
      "source": [
        "## Function Calling\n",
        "\n",
        "Once a function is defined, it can be called or invoked by using its name followed by parentheses `()`.\n",
        "\n",
        "Let's call the `say_hello()` function that we defined earlier:"
      ]
    },
    {
      "cell_type": "code",
      "execution_count": null,
      "metadata": {},
      "outputs": [],
      "source": [
        "# Function definition\n",
        "def say_hello():\n",
        "    print('Hello, World!')\n",
        "\n",
        "# Call the function\n",
        "say_hello()"
      ]
    },
    {
      "attachments": {},
      "cell_type": "markdown",
      "metadata": {},
      "source": [
        "## Positional Arguments\n",
        "\n",
        "Functions can accept input values called arguments. Arguments are specified within the parentheses of the function definition.\n",
        "\n",
        "Let's define a function `add_numbers()` that takes two arguments and returns their sum:"
      ]
    },
    {
      "cell_type": "code",
      "execution_count": null,
      "metadata": {},
      "outputs": [],
      "source": [
        "def add_numbers(a, b):\n",
        "    return a + b\n",
        "\n",
        "# Call the function with positional arguments\n",
        "result = add_numbers(3, 5)\n",
        "print(result)"
      ]
    },
    {
      "attachments": {},
      "cell_type": "markdown",
      "metadata": {},
      "source": [
        "## Keyword Arguments\n",
        "\n",
        "Python allows passing arguments to a function using the argument name and value. This way, the order of arguments does not matter.\n",
        "\n",
        "Let's define a function `multiply_numbers()` that takes two arguments and returns their product:"
      ]
    },
    {
      "cell_type": "code",
      "execution_count": null,
      "metadata": {},
      "outputs": [],
      "source": [
        "def multiply_numbers(a, b):\n",
        "    return a * b\n",
        "\n",
        "# Call the function with keyword arguments\n",
        "result = multiply_numbers(a=3, b=5)\n",
        "print(result)"
      ]
    },
    {
      "attachments": {},
      "cell_type": "markdown",
      "metadata": {},
      "source": [
        "## Default Arguments\n",
        "\n",
        "Python allows specifying default values for function arguments. If a value is not provided for a default argument, the default value will be used.\n",
        "\n",
        "Let's define a function `greet_user()` that takes an optional `name` argument and greets the user with the provided name or a default greeting if no name is provided:"
      ]
    },
    {
      "cell_type": "code",
      "execution_count": null,
      "metadata": {},
      "outputs": [],
      "source": [
        "def greet_user(name='Guest'):\n",
        "    print(f'Hello, {name}!')\n",
        "\n",
        "# Call the function with and without an argument\n",
        "greet_user()\n",
        "greet_user('John')"
      ]
    },
    {
      "attachments": {},
      "cell_type": "markdown",
      "metadata": {},
      "source": [
        "## Return Statement in Functions\n",
        "\n",
        "Functions can return a value using the `return` statement. The returned value can be assigned to a variable or used directly in expressions.\n",
        "\n",
        "Let's define a function `square()` that takes a number as an argument and returns its square:"
      ]
    },
    {
      "cell_type": "code",
      "execution_count": null,
      "metadata": {},
      "outputs": [],
      "source": [
        "def square(x):\n",
        "    return x ** 2\n",
        "\n",
        "# Call the function and store the result\n",
        "result = square(4)\n",
        "print(result)"
      ]
    },
    {
      "attachments": {},
      "cell_type": "markdown",
      "metadata": {},
      "source": [
        "## Call-by-Value\n",
        "\n",
        "In Python, arguments are passed to functions using call-by-value semantics. This means that a copy of the argument's value is passed to the function, and any modifications made to the argument within the function do not affect the original value.\n",
        "\n",
        "Let's see an example that demonstrates call-by-value:"
      ]
    },
    {
      "cell_type": "code",
      "execution_count": 1,
      "id": "c3c43afe",
      "metadata": {},
      "outputs": [
        {
          "name": "stdout",
          "output_type": "stream",
          "text": [
            "Inside the function: 15\n",
            "Outside the function: 5\n"
          ]
        }
      ],
      "source": [
        "def modify_value(x):\n",
        "    x += 10\n",
        "    print('Inside the function:', x)\n",
        "\n",
        "# Call the function\n",
        "value = 5\n",
        "modify_value(value)\n",
        "print('Outside the function:', value)"
      ]
    },
    {
      "attachments": {},
      "cell_type": "markdown",
      "id": "e8c3dfeb",
      "metadata": {},
      "source": [
        "## Call-by-Reference\n",
        "\n",
        "Python does not support call-by-reference directly. However, mutable objects like lists and dictionaries can be modified in place within a function, which can give the effect of call-by-reference.\n",
        "\n",
        "Let's see an example that demonstrates modifying a list inside a function:"
      ]
    },
    {
      "cell_type": "code",
      "execution_count": null,
      "id": "932df368",
      "metadata": {},
      "outputs": [],
      "source": [
        "def modify_list(lst):\n",
        "    lst.append(4)\n",
        "    lst[0] = 'Modified'\n",
        "    print('Inside the function:', lst)\n",
        "\n",
        "# Call the function\n",
        "my_list = [1, 2, 3]\n",
        "modify_list(my_list)\n",
        "print('Outside the function:', my_list)"
      ]
    },
    {
      "attachments": {},
      "cell_type": "markdown",
      "id": "1d9f731f",
      "metadata": {},
      "source": [
        "# Functional Programming\n",
        "\n",
        "Functional programming is a programming paradigm that treats computation as the evaluation of mathematical functions and avoids changing state and mutable data. Python supports functional programming concepts and provides built-in functions to facilitate functional programming.\n",
        "\n",
        "In this notebook, we will explore various concepts related to functional programming."
      ]
    },
    {
      "attachments": {},
      "cell_type": "markdown",
      "id": "5197b4a7",
      "metadata": {},
      "source": [
        "## Lambda Expressions\n",
        "\n",
        "Lambda expressions, also known as anonymous functions, are one-line functions without a name. They are defined using the `lambda` keyword and are commonly used in functional programming to create small, throwaway functions.\n",
        "\n",
        "Let's see an example of a lambda expression that adds two numbers:"
      ]
    },
    {
      "cell_type": "code",
      "execution_count": null,
      "id": "ef7f7100",
      "metadata": {},
      "outputs": [],
      "source": [
        "add_numbers = lambda x, y: x + y\n",
        "result = add_numbers(3, 5)\n",
        "print(result)"
      ]
    },
    {
      "attachments": {},
      "cell_type": "markdown",
      "id": "410ee213",
      "metadata": {},
      "source": [
        "## Map()\n",
        "\n",
        "The `map()` function applies a given function to each item in an iterable (e.g., a list) and returns a new iterable with the results. It allows us to perform a transformation operation on each element of the iterable.\n",
        "\n",
        "Let's see an example of using `map()` to square each number in a list:"
      ]
    },
    {
      "cell_type": "code",
      "execution_count": null,
      "id": "e2a04fce",
      "metadata": {},
      "outputs": [],
      "source": [
        "numbers = [1, 2, 3, 4, 5]\n",
        "squared_numbers = list(map(lambda x: x ** 2, numbers))\n",
        "print(squared_numbers)"
      ]
    },
    {
      "attachments": {},
      "cell_type": "markdown",
      "id": "b3ba2c0e",
      "metadata": {},
      "source": [
        "## Reduce()\n",
        "\n",
        "The `reduce()` function applies a given function to the first two elements of an iterable, then applies the same function to the result and the next element, and continues this process until all elements are processed. It returns a single value that represents the accumulated result.\n",
        "\n",
        "Let's see an example of using `reduce()` to calculate the product of all numbers in a list:"
      ]
    },
    {
      "cell_type": "code",
      "execution_count": null,
      "id": "b667e1e1",
      "metadata": {},
      "outputs": [],
      "source": [
        "from functools import reduce\n",
        "\n",
        "numbers = [1, 2, 3, 4, 5]\n",
        "product = reduce(lambda x, y: x * y, numbers)\n",
        "print(product)"
      ]
    },
    {
      "attachments": {},
      "cell_type": "markdown",
      "id": "c3b6bc53",
      "metadata": {},
      "source": [
        "## Filter()\n",
        "\n",
        "The `filter()` function applies a given function to each item in an iterable and returns a new iterable with only the items for which the function returns `True`. It allows us to selectively filter elements based on a condition.\n",
        "\n",
        "Let's see an example of using `filter()` to filter even numbers from a list:"
      ]
    },
    {
      "cell_type": "code",
      "execution_count": null,
      "id": "9e0e6d44",
      "metadata": {},
      "outputs": [],
      "source": [
        "numbers = [1, 2, 3, 4, 5, 6, 7, 8, 9, 10]\n",
        "even_numbers = list(filter(lambda x: x % 2 == 0, numbers))\n",
        "print(even_numbers)"
      ]
    }
  ],
  "metadata": {
    "kernelspec": {
      "display_name": "Python 3",
      "language": "python",
      "name": "python3"
    },
    "language_info": {
      "codemirror_mode": {
        "name": "ipython",
        "version": 3
      },
      "file_extension": ".py",
      "mimetype": "text/x-python",
      "name": "python",
      "nbconvert_exporter": "python",
      "pygments_lexer": "ipython3",
      "version": "3.10.8"
    }
  },
  "nbformat": 4,
  "nbformat_minor": 5
}
