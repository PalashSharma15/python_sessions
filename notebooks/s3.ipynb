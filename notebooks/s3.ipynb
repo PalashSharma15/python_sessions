{
  "cells": [
    {
      "attachments": {},
      "cell_type": "markdown",
      "id": "40387b99",
      "metadata": {},
      "source": [
        "**Table of contents**<a id='toc0_'></a>    \n",
        "- [File Handling](#toc1_)    \n",
        "  - [Syntax](#toc1_1_)    \n",
        "  - [How to Open a File](#toc1_2_)    \n",
        "  - [Read Lines](#toc1_3_)    \n",
        "  - [Write to an Existing File](#toc1_4_)    \n",
        "  - [Create a New File](#toc1_5_)    \n",
        "  - [Delete a File](#toc1_6_)    \n",
        "- [Introduction to Numpy](#toc2_)    \n",
        "  - [Installation of Numpy](#toc2_1_)    \n",
        "  - [Numpy Arrays](#toc2_2_)    \n",
        "  - [Attributes of Arrays](#toc2_3_)    \n",
        "  - [Slicing of Arrays](#toc2_4_)    \n",
        "  - [Quick Note on Array Indexing](#toc2_5_)    \n",
        "  - [Numpy Array Indexing](#toc2_6_)    \n",
        "  - [Reshaping of Arrays](#toc2_7_)    \n",
        "  - [Joining and Splitting of Arrays](#toc2_8_)    \n",
        "  - [Numpy Operations](#toc2_9_)    \n",
        "\n",
        "<!-- vscode-jupyter-toc-config\n",
        "\tnumbering=false\n",
        "\tanchor=true\n",
        "\tflat=false\n",
        "\tminLevel=1\n",
        "\tmaxLevel=6\n",
        "\t/vscode-jupyter-toc-config -->\n",
        "<!-- THIS CELL WILL BE REPLACED ON TOC UPDATE. DO NOT WRITE YOUR TEXT IN THIS CELL -->"
      ]
    },
    {
      "attachments": {},
      "cell_type": "markdown",
      "id": "bdc4a2de",
      "metadata": {},
      "source": [
        "# <a id='toc1_'></a>[File Handling](#toc0_)\n",
        "\n",
        "File handling is an essential aspect of programming that allows us to work with files on a computer. Python provides built-in functions and methods to handle file operations. In this notebook, we will explore various file handling concepts."
      ]
    },
    {
      "attachments": {},
      "cell_type": "markdown",
      "id": "2c95c880",
      "metadata": {},
      "source": [
        "## <a id='toc1_1_'></a>[Syntax](#toc0_)\n",
        "\n",
        "To perform file operations in Python, we use the following basic syntax:\n",
        "\n",
        "```python\n",
        "# Opening a file\n",
        "file = open(filename, mode)\n",
        "\n",
        "# Performing file operations\n",
        "# ...\n",
        "\n",
        "# Closing the file\n",
        "file.close()\n",
        "```"
      ]
    },
    {
      "attachments": {},
      "cell_type": "markdown",
      "metadata": {},
      "source": [
        "## <a id='toc1_2_'></a>[How to Open a File](#toc0_)\n",
        "\n",
        "To open a file in Python, we use the `open()` function. The function takes two arguments: the `filename` (a string representing the file name or path) and the `mode` (a string indicating the purpose of opening the file).\n",
        "\n",
        "Let's see an example of opening a text file in read mode:"
      ]
    },
    {
      "cell_type": "code",
      "execution_count": 1,
      "id": "d5d661a7",
      "metadata": {},
      "outputs": [],
      "source": [
        "!echo \"Sample File\" > example.txt"
      ]
    },
    {
      "cell_type": "code",
      "execution_count": 3,
      "id": "45620f6d",
      "metadata": {},
      "outputs": [
        {
          "name": "stdout",
          "output_type": "stream",
          "text": [
            "<_io.TextIOWrapper name='example.txt' mode='r' encoding='UTF-8'>\n"
          ]
        }
      ],
      "source": [
        "file = open('example.txt', 'r')\n",
        "print(file) # TextIOWrapper object\n",
        "file.close()"
      ]
    },
    {
      "attachments": {},
      "cell_type": "markdown",
      "metadata": {},
      "source": [
        "## <a id='toc1_3_'></a>[Read Lines](#toc0_)\n",
        "\n",
        "Once a file is opened, we can read its contents using various methods. One common method is `readlines()`, which reads all the lines of a file and returns them as a list of strings.\n",
        "\n",
        "Let's see an example of reading the lines from a file and printing them:"
      ]
    },
    {
      "cell_type": "code",
      "execution_count": 8,
      "id": "9d407462",
      "metadata": {},
      "outputs": [],
      "source": [
        "!echo -e \"Sample File\\nThis is line # 2\" > example.txt"
      ]
    },
    {
      "cell_type": "code",
      "execution_count": 9,
      "id": "ccb3ce0a",
      "metadata": {},
      "outputs": [
        {
          "name": "stdout",
          "output_type": "stream",
          "text": [
            "Sample File\n",
            "\n",
            "This is line # 2\n",
            "\n"
          ]
        }
      ],
      "source": [
        "file = open('example.txt', 'r')\n",
        "lines = file.readlines()\n",
        "file.close()\n",
        "\n",
        "for line in lines:\n",
        "    print(line)"
      ]
    },
    {
      "attachments": {},
      "cell_type": "markdown",
      "metadata": {},
      "source": [
        "## <a id='toc1_4_'></a>[Write to an Existing File](#toc0_)\n",
        "\n",
        "To write to an existing file, we open the file in write mode (`'w'`) or append mode (`'a'`), and then use the `write()` method to write the desired content.\n",
        "\n",
        "Let's see an example of writing to an existing file:"
      ]
    },
    {
      "cell_type": "code",
      "execution_count": 10,
      "id": "c43bbfb3",
      "metadata": {},
      "outputs": [],
      "source": [
        "file = open('example.txt', 'w')\n",
        "file.write('Hello, World!')\n",
        "file.close()"
      ]
    },
    {
      "attachments": {},
      "cell_type": "markdown",
      "metadata": {},
      "source": [
        "## <a id='toc1_5_'></a>[Create a New File](#toc0_)\n",
        "\n",
        "To create a new file, we can open a file in write mode (`'w'`) or use the `open()` function with `'x'` mode, which creates a new file for writing.\n",
        "\n",
        "Let's see an example of creating a new file and writing to it:"
      ]
    },
    {
      "cell_type": "code",
      "execution_count": 18,
      "id": "1657dffe",
      "metadata": {},
      "outputs": [
        {
          "name": "stdout",
          "output_type": "stream",
          "text": [
            "['This is a new file.']\n"
          ]
        }
      ],
      "source": [
        "file = open('new_file.txt', 'x')\n",
        "file.write('This is a new file.')\n",
        "#\n",
        "file.close()\n",
        "_ = !cat new_file.txt\n",
        "print(_)"
      ]
    },
    {
      "attachments": {},
      "cell_type": "markdown",
      "metadata": {},
      "source": [
        "## <a id='toc1_6_'></a>[Delete a File](#toc0_)\n",
        "\n",
        "To delete a file, we can use the `os.remove()` function from the `os` module.\n",
        "\n",
        "Let's see an example of deleting a file:"
      ]
    },
    {
      "cell_type": "code",
      "execution_count": 22,
      "id": "cc5a9f5d",
      "metadata": {},
      "outputs": [],
      "source": [
        "import os\n",
        "file_path = 'file_to_delete.txt'\n",
        "os.remove(file_path)"
      ]
    },
    {
      "attachments": {},
      "cell_type": "markdown",
      "id": "e1541478",
      "metadata": {},
      "source": [
        "# <a id='toc2_'></a>[Introduction to Numpy](#toc0_)\n",
        "\n",
        "Numpy is a powerful library in Python for numerical computations. It provides support for large, multi-dimensional arrays and matrices, along with a collection of functions to operate on these arrays efficiently. This section introduces the basic concepts and functionalities of Numpy.\n"
      ]
    },
    {
      "attachments": {},
      "cell_type": "markdown",
      "metadata": {},
      "source": [
        "## <a id='toc2_1_'></a>[Installation of Numpy](#toc0_)\n",
        "\n",
        "Before using Numpy, you need to install it. You can install Numpy using the following command:\n",
        "\n",
        "```python\n",
        "!pip install numpy\n",
        "```\n",
        "\n",
        "Once installed, you can import the Numpy module using the following import statement:"
      ]
    },
    {
      "cell_type": "code",
      "execution_count": 23,
      "id": "1ec2e5c0",
      "metadata": {},
      "outputs": [],
      "source": [
        "\n",
        "import numpy as np"
      ]
    },
    {
      "attachments": {},
      "cell_type": "markdown",
      "metadata": {},
      "source": [
        "## <a id='toc2_2_'></a>[Numpy Arrays](#toc0_)\n",
        "\n",
        "Numpy arrays are the fundamental data structure in Numpy. They are similar to Python lists but can store homogeneous data and support a variety of operations on the data. Numpy arrays can have one or more dimensions.\n",
        "\n",
        "Here is an example of creating a Numpy array:"
      ]
    },
    {
      "cell_type": "code",
      "execution_count": 24,
      "id": "93a6d9e3",
      "metadata": {},
      "outputs": [
        {
          "name": "stdout",
          "output_type": "stream",
          "text": [
            "[1 2 3 4 5]\n",
            "[[1 2 3]\n",
            " [4 5 6]]\n"
          ]
        }
      ],
      "source": [
        "import numpy as np\n",
        "\n",
        "# Create a 1-dimensional Numpy array\n",
        "arr1d = np.array([1, 2, 3, 4, 5])\n",
        "print(arr1d)\n",
        "\n",
        "# Create a 2-dimensional Numpy array\n",
        "arr2d = np.array([[1, 2, 3], [4, 5, 6]])\n",
        "print(arr2d)"
      ]
    },
    {
      "attachments": {},
      "cell_type": "markdown",
      "metadata": {},
      "source": [
        "## <a id='toc2_3_'></a>[Attributes of Arrays](#toc0_)\n",
        "\n",
        "Arrays in NumPy have various attributes that provide useful information about the array. Some commonly used attributes include:\n",
        "\n",
        "- `ndarray.shape`: Returns the dimensions of the array.\n",
        "- `ndarray.size`: Returns the total number of elements in the array.\n",
        "- `ndarray.dtype`: Returns the data type of the elements in the array.\n",
        "- `ndarray.itemsize`: Returns the size (in bytes) of each element in the array.\n",
        "- `ndarray.nbytes`: Returns the total size (in bytes) of the array.\n",
        "\n",
        "Let's see some examples of using these attributes:\n"
      ]
    },
    {
      "cell_type": "code",
      "execution_count": null,
      "id": "e389def1",
      "metadata": {},
      "outputs": [],
      "source": [
        "import numpy as np\n",
        "\n",
        "# Create a 2-dimensional array\n",
        "arr = np.array([[1, 2, 3], [4, 5, 6]])\n",
        "\n",
        "# Shape of the array\n",
        "print(arr.shape)  # Output: (2, 3)\n",
        "\n",
        "# Total number of elements\n",
        "print(arr.size)  # Output: 6\n",
        "\n",
        "# Data type of the elements\n",
        "print(arr.dtype)  # Output: int64\n",
        "\n",
        "# Size of each element in bytes\n",
        "print(arr.itemsize)  # Output: 8\n",
        "\n",
        "# Total size of the array in bytes\n",
        "print(arr.nbytes)  # Output: 48\n"
      ]
    },
    {
      "attachments": {},
      "cell_type": "markdown",
      "metadata": {},
      "source": [
        "## <a id='toc2_5_'></a>[Quick Note on Array Indexing](#toc0_)\n",
        "\n",
        "In Numpy, array indexing is similar to Python lists. The index of the first element is 0, the index of the second element is 1, and so on. You can also use negative indexing to \"access\" elements from the end of the array.\n",
        "\n",
        "Here are a few examples of array indexing in Numpy:"
      ]
    },
    {
      "cell_type": "code",
      "execution_count": 25,
      "id": "f210aa1f",
      "metadata": {},
      "outputs": [
        {
          "name": "stdout",
          "output_type": "stream",
          "text": [
            "1\n",
            "3\n",
            "5\n",
            "[2 3 4]\n",
            "[1 2 3]\n",
            "[3 4 5]\n"
          ]
        }
      ],
      "source": [
        "import numpy as np\n",
        "\n",
        "# Create a 1-dimensional Numpy array\n",
        "arr = np.array([1, 2, 3, 4, 5])\n",
        "\n",
        "# Accessing individual elements\n",
        "print(arr[0])  # Output: 1\n",
        "print(arr[2])  # Output: 3\n",
        "print(arr[-1])  # Output: 5\n",
        "\n",
        "# Slicing the array\n",
        "print(arr[1:4])  # Output: [2, 3, 4]\n",
        "print(arr[:3])  # Output: [1, 2, 3]\n",
        "print(arr[2:])  # Output: [3, 4, 5]"
      ]
    },
    {
      "attachments": {},
      "cell_type": "markdown",
      "metadata": {},
      "source": [
        "## <a id='toc2_6_'></a>[Numpy Array Indexing](#toc0_)\n",
        "\n",
        "Numpy provides powerful indexing capabilities to access and modify elements of arrays based on certain conditions or boolean arrays. It allows for advanced slicing, masking, and fancy indexing.\n",
        "\n",
        "Here is an example of Numpy array indexing:"
      ]
    },
    {
      "cell_type": "code",
      "execution_count": 26,
      "id": "6791f436",
      "metadata": {},
      "outputs": [
        {
          "name": "stdout",
          "output_type": "stream",
          "text": [
            "[3 4 5]\n",
            "[1 3 5]\n"
          ]
        }
      ],
      "source": [
        "import numpy as np\n",
        "\n",
        "# Create a 1-dimensional Numpy array\n",
        "arr = np.array([1, 2, 3, 4, 5])\n",
        "\n",
        "# Boolean indexing\n",
        "mask = arr > 2\n",
        "print(arr[mask])  # Output: [3, 4, 5]\n",
        "\n",
        "# Fancy indexing\n",
        "indices = [0, 2, 4]\n",
        "print(arr[indices])  # Output: [1, 3, 5]"
      ]
    },
    {
      "attachments": {},
      "cell_type": "markdown",
      "id": "807f71b1",
      "metadata": {},
      "source": [
        "## <a id='toc2_4_'></a>[Slicing of Arrays](#toc0_)\n",
        "\n",
        "Slicing allows us to access subarrays within a larger array. It provides a powerful way to extract portions of arrays and manipulate them independently. Slicing in NumPy follows the syntax: `start:stop:step`, where `start` is the starting index, `stop` is the stopping index (exclusive), and `step` is the step size between elements.\n",
        "\n",
        "Let's see some examples of slicing an array:\n"
      ]
    },
    {
      "cell_type": "code",
      "execution_count": null,
      "id": "5770e432",
      "metadata": {},
      "outputs": [],
      "source": [
        "import numpy as np\n",
        "\n",
        "# Create a 1-dimensional array\n",
        "arr = np.array([1, 2, 3, 4, 5])\n",
        "\n",
        "# Get a subarray from index 1 to 3 (exclusive)\n",
        "print(arr[1:3])  # Output: [2, 3]\n",
        "\n",
        "# Get every second element\n",
        "print(arr[::2])  # Output: [1, 3, 5]\n",
        "\n",
        "# Reverse the array\n",
        "print(arr[::-1])  # Output: [5, 4, 3, 2, 1]\n"
      ]
    },
    {
      "attachments": {},
      "cell_type": "markdown",
      "metadata": {},
      "source": [
        "## <a id='toc2_7_'></a>[Reshaping of Arrays](#toc0_)\n",
        "\n",
        "Reshaping allows us to change the shape of an array without changing its data. The `reshape()` function in NumPy can be used to reshape an array into a different shape. It takes a tuple as the argument, specifying the new shape of the array.\n",
        "\n",
        "Let's see an example of reshaping an array:\n"
      ]
    },
    {
      "cell_type": "code",
      "execution_count": 2,
      "id": "eb10957c",
      "metadata": {},
      "outputs": [
        {
          "name": "stdout",
          "output_type": "stream",
          "text": [
            "[[1 2 3]\n",
            " [4 5 6]]\n"
          ]
        }
      ],
      "source": [
        "import numpy as np\n",
        "\n",
        "# Create a 1-dimensional array\n",
        "arr = np.array([1, 2, 3, 4, 5, 6])\n",
        "\n",
        "# Reshape the array into a 2x3 matrix\n",
        "new_arr = arr.reshape((2, 3))\n",
        "\n",
        "# Print the reshaped array\n",
        "print(new_arr)\n"
      ]
    },
    {
      "attachments": {},
      "cell_type": "markdown",
      "metadata": {},
      "source": [
        "## <a id='toc2_8_'></a>[Joining and Splitting of Arrays](#toc0_)\n",
        "\n",
        "NumPy provides functions to join multiple arrays into one and split a single array into multiple smaller arrays.\n",
        "\n",
        "The `np.concatenate()` function can be used to join arrays along a specified axis. The `np.split()` function can be used to split an array into multiple subarrays of equal size.\n",
        "\n",
        "Let's see some examples of joining and splitting arrays:\n"
      ]
    },
    {
      "cell_type": "code",
      "execution_count": 3,
      "id": "047e6410",
      "metadata": {},
      "outputs": [
        {
          "name": "stdout",
          "output_type": "stream",
          "text": [
            "[1 2 3 4 5 6]\n",
            "[array([1, 2]), array([3, 4]), array([5, 6])]\n"
          ]
        }
      ],
      "source": [
        "import numpy as np\n",
        "\n",
        "# Create two arrays\n",
        "arr1 = np.array([1, 2, 3])\n",
        "arr2 = np.array([4, 5, 6])\n",
        "\n",
        "# Join the arrays along the first axis (vertical stack)\n",
        "result = np.concatenate((arr1, arr2), axis=0)\n",
        "print(result)  # Output: [1, 2, 3, 4, 5, 6]\n",
        "\n",
        "# Split the array into three subarrays\n",
        "subarrays = np.split(result, 3)\n",
        "print(subarrays)  # Output: [array([1, 2]), array([3, 4]), array([5, 6])]\n"
      ]
    },
    {
      "attachments": {},
      "cell_type": "markdown",
      "metadata": {},
      "source": [
        "## <a id='toc2_9_'></a>[Numpy Operations](#toc0_)\n",
        "\n",
        "Numpy provides a wide range of mathematical and logical functions to perform operations on arrays efficiently. These functions can be used for element-wise operations, array-wise operations, and other mathematical computations.\n",
        "\n",
        "Here are a few examples of Numpy operations:"
      ]
    },
    {
      "cell_type": "code",
      "execution_count": 4,
      "id": "eb89a1b3",
      "metadata": {},
      "outputs": [
        {
          "name": "stdout",
          "output_type": "stream",
          "text": [
            "[3 4 5 6 7]\n",
            "[ 3  6  9 12 15]\n",
            "15\n",
            "3.0\n",
            "[1.         1.41421356 1.73205081 2.         2.23606798]\n"
          ]
        }
      ],
      "source": [
        "import numpy as np\n",
        "\n",
        "# Create a 1-dimensional Numpy array\n",
        "arr = np.array([1, 2, 3, 4, 5])\n",
        "\n",
        "# Element-wise operations\n",
        "print(arr + 2)  # Output: [3, 4, 5, 6, 7]\n",
        "print(arr * 3)  # Output: [3, 6, 9, 12, 15]\n",
        "\n",
        "# Array-wise operations\n",
        "print(np.sum(arr))  # Output: 15\n",
        "print(np.mean(arr))  # Output: 3.0\n",
        "\n",
        "# Other mathematical computations\n",
        "print(np.sqrt(arr))  # Output: [1.0, 1.41421356, 1.73205081, 2.0, 2.23606798]"
      ]
    },
    {
      "attachments": {},
      "cell_type": "markdown",
      "metadata": {},
      "source": [
        "> ### <a id='toc2_6_'></a>[Exercises](#toc0_)\n",
        "\n",
        ">1. Create a Numpy array containing the numbers from 1 to 10 and print it.\n",
        ">2. Square each element in the array from exercise 1 and print the result.\n",
        ">3. Find the sum of all elements in the array from exercise 1.\n",
        ">4. Create a 2-dimensional Numpy array with shape (3, 3) containing random numbers between 0 and 1.\n",
        ">5. Reshape the array from exercise 4 to shape (1, 9).\n",
        ">6. Compute the mean of each row in the reshaped array from exercise 5.\n"
      ]
    }
  ],
  "metadata": {
    "kernelspec": {
      "display_name": "Python 3",
      "language": "python",
      "name": "python3"
    },
    "language_info": {
      "codemirror_mode": {
        "name": "ipython",
        "version": 3
      },
      "file_extension": ".py",
      "mimetype": "text/x-python",
      "name": "python",
      "nbconvert_exporter": "python",
      "pygments_lexer": "ipython3",
      "version": "3.10.8"
    }
  },
  "nbformat": 4,
  "nbformat_minor": 5
}
