{
  "cells": [
    {
      "cell_type": "markdown",
      "metadata": {},
      "source": [
        "# File Handling\n",
        "\n",
        "File handling is an essential aspect of programming that allows us to work with files on a computer. Python provides built-in functions and methods to handle file operations. In this notebook, we will explore various file handling concepts."
      ]
    },
    {
      "cell_type": "markdown",
      "metadata": {},
      "source": [
        "## Syntax\n",
        "\n",
        "To perform file operations in Python, we use the following basic syntax:\n",
        "\n",
        "```python\n",
        "# Opening a file\n",
        "file = open(filename, mode)\n",
        "\n",
        "# Performing file operations\n",
        "# ...\n",
        "\n",
        "# Closing the file\n",
        "file.close()\n",
        "```"
      ]
    },
    {
      "cell_type": "markdown",
      "metadata": {},
      "source": [
        "## How to Open a File\n",
        "\n",
        "To open a file in Python, we use the `open()` function. The function takes two arguments: the `filename` (a string representing the file name or path) and the `mode` (a string indicating the purpose of opening the file).\n",
        "\n",
        "Let's see an example of opening a text file in read mode:"
      ]
    },
    {
      "cell_type": "code",
      "execution_count": 1,
      "metadata": {},
      "outputs": [],
      "source": [
        "file = open('example.txt', 'r')\n",
        "file.close()"
      ]
    },
    {
      "cell_type": "markdown",
      "metadata": {},
      "source": [
        "## Read Lines\n",
        "\n",
        "Once a file is opened, we can read its contents using various methods. One common method is `readlines()`, which reads all the lines of a file and returns them as a list of strings.\n",
        "\n",
        "Let's see an example of reading the lines from a file and printing them:"
      ]
    },
    {
      "cell_type": "code",
      "execution_count": null,
      "metadata": {},
      "outputs": [],
      "source": [
        "file = open('example.txt', 'r')\n",
        "lines = file.readlines()\n",
        "file.close()\n",
        "\n",
        "for line in lines:\n",
        "    print(line)"
      ]
    },
    {
      "cell_type": "markdown",
      "metadata": {},
      "source": [
        "## Write to an Existing File\n",
        "\n",
        "To write to an existing file, we open the file in write mode (`'w'`) or append mode (`'a'`), and then use the `write()` method to write the desired content.\n",
        "\n",
        "Let's see an example of writing to an existing file:"
      ]
    },
    {
      "cell_type": "code",
      "execution_count": null,
      "metadata": {},
      "outputs": [],
      "source": [
        "file = open('example.txt', 'w')\n",
        "file.write('Hello, World!')\n",
        "file.close()"
      ]
    },
    {
      "cell_type": "markdown",
      "metadata": {},
      "source": [
        "## Create a New File\n",
        "\n",
        "To create a new file, we can open a file in write mode (`'w'`) or use the `open()` function with `'x'` mode, which creates a new file for writing.\n",
        "\n",
        "Let's see an example of creating a new file and writing to it:"
      ]
    },
    {
      "cell_type": "code",
      "execution_count": null,
      "metadata": {},
      "outputs": [],
      "source": [
        "file = open('new_file.txt', 'x')\n",
        "file.write('This is a new file.')\n",
        "file.close()"
      ]
    },
    {
      "cell_type": "markdown",
      "metadata": {},
      "source": [
        "## Delete a File\n",
        "\n",
        "To delete a file, we can use the `os.remove()` function from the `os` module.\n",
        "\n",
        "Let's see an example of deleting a file:"
      ]
    },
    {
      "cell_type": "code",
      "execution_count": null,
      "metadata": {},
      "outputs": [],
      "source": [
        "import os\n",
        "file_path = 'file_to_delete.txt'\n",
        "os.remove(file_path)"
      ]
    }
  ],
  "metadata": {
    "kernelspec": {
      "display_name": "Python 3",
      "language": "python",
      "name": "python3"
    },
    "language_info": {
      "codemirror_mode": {
        "name": "ipython",
        "version": 3
      },
      "file_extension": ".py",
      "mimetype": "text/x-python",
      "name": "python",
      "nbconvert_exporter": "python",
      "pygments_lexer": "ipython3",
      "version": "3.10.8"
    }
  },
  "nbformat": 4,
  "nbformat_minor": 5
}
